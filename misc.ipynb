{
 "cells": [
  {
   "cell_type": "code",
   "execution_count": 1,
   "id": "87da9afc-ffa9-4d38-a757-6a42a9ca40d8",
   "metadata": {},
   "outputs": [
    {
     "name": "stdout",
     "output_type": "stream",
     "text": [
      "Moving forward: 0\n",
      "Moving forward: 1\n",
      "Moving forward: 2\n",
      "Moving forward: 3\n",
      "Moving backward: 3\n",
      "Moving backward: 2\n",
      "Moving backward: 1\n",
      "Moving backward: 0\n"
     ]
    }
   ],
   "source": [
    "def move_forward_backward(n, current=0):\n",
    "    # Base case: stop if we have reached the maximum value in forward motion\n",
    "    if current > n:\n",
    "        return\n",
    "    # Print current value (moving forward)\n",
    "    print(f\"Moving forward: {current}\")\n",
    "    \n",
    "    # Recursive call: moving forward\n",
    "    move_forward_backward(n, current + 1)\n",
    "    \n",
    "    # Print current value (moving backward)\n",
    "    print(f\"Moving backward: {current}\")\n",
    "\n",
    "# Example usage\n",
    "move_forward_backward(3)"
   ]
  },
  {
   "cell_type": "code",
   "execution_count": 2,
   "id": "0c1fce41-228f-4c6d-b9e9-c2ff32eb6956",
   "metadata": {},
   "outputs": [
    {
     "data": {
      "text/plain": [
       "0.6322399967812302"
      ]
     },
     "execution_count": 2,
     "metadata": {},
     "output_type": "execute_result"
    }
   ],
   "source": [
    "import numpy as np\n",
    "np.random.uniform(-1, 1)"
   ]
  },
  {
   "cell_type": "code",
   "execution_count": 3,
   "id": "1a5bf10b-30b8-4216-a173-3fa77c538a23",
   "metadata": {},
   "outputs": [
    {
     "data": {
      "text/plain": [
       "1"
      ]
     },
     "execution_count": 3,
     "metadata": {},
     "output_type": "execute_result"
    }
   ],
   "source": [
    "v = np.random.choice([-1, 1]) \n",
    "v"
   ]
  },
  {
   "cell_type": "code",
   "execution_count": 5,
   "id": "dad32849-d3fb-498d-a841-bd215d8f484c",
   "metadata": {},
   "outputs": [
    {
     "data": {
      "text/plain": [
       "-1"
      ]
     },
     "execution_count": 5,
     "metadata": {},
     "output_type": "execute_result"
    }
   ],
   "source": [
    "v = np.random.choice([-1, 1]) \n",
    "v"
   ]
  },
  {
   "cell_type": "code",
   "execution_count": null,
   "id": "d1364e0a-8896-4eae-992c-b8d5dc9a7d25",
   "metadata": {},
   "outputs": [],
   "source": []
  },
  {
   "cell_type": "code",
   "execution_count": null,
   "id": "5adf9392-778c-4993-8baf-3dfb41822713",
   "metadata": {},
   "outputs": [],
   "source": []
  },
  {
   "cell_type": "code",
   "execution_count": null,
   "id": "88fc658e-6c3a-4eb2-a8a9-a8afd041bf59",
   "metadata": {},
   "outputs": [],
   "source": []
  }
 ],
 "metadata": {
  "kernelspec": {
   "display_name": "Python (tfp_env_TN_CPU)",
   "language": "python",
   "name": "tfp_env_tn_cpu"
  },
  "language_info": {
   "codemirror_mode": {
    "name": "ipython",
    "version": 3
   },
   "file_extension": ".py",
   "mimetype": "text/x-python",
   "name": "python",
   "nbconvert_exporter": "python",
   "pygments_lexer": "ipython3",
   "version": "3.11.7"
  }
 },
 "nbformat": 4,
 "nbformat_minor": 5
}

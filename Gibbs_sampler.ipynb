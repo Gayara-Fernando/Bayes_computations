{
 "cells": [
  {
   "cell_type": "markdown",
   "id": "09f9c977-0725-488d-93bb-55fbef36b428",
   "metadata": {},
   "source": [
    "#### Markov Chain Simulations\n",
    "\n",
    "##### Gibbs Sampler"
   ]
  },
  {
   "cell_type": "markdown",
   "id": "d44706db-5c58-41c9-8f09-846b7692e4c1",
   "metadata": {},
   "source": [
    "Makes sense in th case of multi-dimensional paramaters. Also, the joint distribution of the parameters is difficult to sample from, but it is easy to sample from the conditional ditributions. The guy said it works only in a multivariate setting. \n",
    "\n",
    "Suppose we need to sample from 2D normal with mean vector 0 and variance matrix 1's and correlation 0.5 that is [[1,0.5], [0.5,1]]. And assume p(x,y) is difficult to sample from but we can draw samples from p(x|y), and p(y|x). With the given parameters, p(x|y) = N(rho*y, 1-rho^2), and p(y|x) = N(rho*x, 1-rho^2).\n",
    "\n",
    "For us \n",
    "p(x|y) = N(y/2, 3/4), p(y|x) = N(x/2, 3/4)."
   ]
  },
  {
   "cell_type": "markdown",
   "id": "1ec54bf2-dc5f-4557-9c78-f31e04c3054b",
   "metadata": {},
   "source": [
    "Procedure for Gibbs\n",
    "\n",
    "\n",
    "1. Start at some (x_0, y_0)\n",
    "2. Next, hold y fixed at y_0, and sample x_1 from p(x_1|y_0) (notice that to get this value we need te value of only y from the derivations in the previous paragraph).\n",
    "3. The hold the current value of x fixed, and sample y_1 from (y_1|x_1)\n",
    "\n",
    "Then we repeat the 2nd and 3rd steps as many times as we need. The first sample will be (x_0, y_0), second will be (x_1, y_1) and so on. When you take enough samples like this (after the burn in period), it's going to look like if we sampled from the required bivariate distribution we need.\n"
   ]
  },
  {
   "cell_type": "code",
   "execution_count": null,
   "id": "dfdca0df-83a5-4125-bf94-6b986be7b353",
   "metadata": {},
   "outputs": [],
   "source": []
  },
  {
   "cell_type": "code",
   "execution_count": null,
   "id": "4ba385d0-e920-46af-ab6d-e3fde58945bf",
   "metadata": {},
   "outputs": [],
   "source": []
  },
  {
   "cell_type": "code",
   "execution_count": null,
   "id": "a0d2e587-5710-43c5-9a18-94aa1caa9b4a",
   "metadata": {},
   "outputs": [],
   "source": []
  },
  {
   "cell_type": "code",
   "execution_count": null,
   "id": "a0db0aea-e3b9-4777-9fa5-8379a0adcedd",
   "metadata": {},
   "outputs": [],
   "source": []
  },
  {
   "cell_type": "code",
   "execution_count": null,
   "id": "732d146a-171b-4349-82a2-b62b567740ac",
   "metadata": {},
   "outputs": [],
   "source": []
  },
  {
   "cell_type": "code",
   "execution_count": null,
   "id": "b57ab511-5fb0-4f90-9916-8bb97528f657",
   "metadata": {},
   "outputs": [],
   "source": []
  },
  {
   "cell_type": "code",
   "execution_count": null,
   "id": "fb051f7b-daf4-48c2-9638-471366216a87",
   "metadata": {},
   "outputs": [],
   "source": []
  },
  {
   "cell_type": "code",
   "execution_count": null,
   "id": "acc02f29-77b5-46a4-8cc2-5efc5f892e16",
   "metadata": {},
   "outputs": [],
   "source": []
  },
  {
   "cell_type": "code",
   "execution_count": null,
   "id": "228b82de-a39f-4874-a0ab-8fe8e04051d3",
   "metadata": {},
   "outputs": [],
   "source": []
  },
  {
   "cell_type": "code",
   "execution_count": null,
   "id": "8c29efef-f813-41dc-9c5f-0005c4c96647",
   "metadata": {},
   "outputs": [],
   "source": []
  },
  {
   "cell_type": "code",
   "execution_count": null,
   "id": "1f79f5ef-2556-4a0c-baec-91ea5e1f553e",
   "metadata": {},
   "outputs": [],
   "source": []
  },
  {
   "cell_type": "code",
   "execution_count": null,
   "id": "ff61098c-fd10-411e-b8a4-c6c3667417db",
   "metadata": {},
   "outputs": [],
   "source": []
  },
  {
   "cell_type": "code",
   "execution_count": null,
   "id": "e1665a1c-3648-4cca-899e-acbc5c1a5ef0",
   "metadata": {},
   "outputs": [],
   "source": []
  }
 ],
 "metadata": {
  "kernelspec": {
   "display_name": "Python (tfp_env_TN_CPU)",
   "language": "python",
   "name": "tfp_env_tn_cpu"
  },
  "language_info": {
   "codemirror_mode": {
    "name": "ipython",
    "version": 3
   },
   "file_extension": ".py",
   "mimetype": "text/x-python",
   "name": "python",
   "nbconvert_exporter": "python",
   "pygments_lexer": "ipython3",
   "version": "3.11.7"
  }
 },
 "nbformat": 4,
 "nbformat_minor": 5
}

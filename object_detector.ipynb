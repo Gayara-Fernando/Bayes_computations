{
 "cells": [
  {
   "cell_type": "code",
   "execution_count": 2,
   "id": "d7eb3409-fd6b-4c89-a18a-8d790e954bc6",
   "metadata": {},
   "outputs": [
    {
     "name": "stderr",
     "output_type": "stream",
     "text": [
      "/common/statsgeneral/gayara/tf_with_py38_gpu_29/lib/python3.8/site-packages/tqdm/auto.py:21: TqdmWarning: IProgress not found. Please update jupyter and ipywidgets. See https://ipywidgets.readthedocs.io/en/stable/user_install.html\n",
      "  from .autonotebook import tqdm as notebook_tqdm\n"
     ]
    }
   ],
   "source": [
    "import tensorflow as tf\n",
    "import tensorflow_datasets as tfds\n",
    "import numpy as np\n",
    "import matplotlib.pyplot as plt"
   ]
  },
  {
   "cell_type": "code",
   "execution_count": null,
   "id": "692f4a7a-72fd-4c57-b75e-436936d0fb2b",
   "metadata": {},
   "outputs": [],
   "source": [
    "# Load the dataset (COCO)\n",
    "dataset_name = \"coco/2017\"  # Change this to a different dataset like \"voc\" if needed\n",
    "\n",
    "# Splitting into train, validation, and test sets\n",
    "(train_ds, val_ds, test_ds), info = tfds.load(dataset_name, split=['train[:80%]', 'train[80%:90%]', 'train[90%:]'], \n",
    "                                              shuffle_files=True, with_info=True)\n",
    "\n",
    "# Define label and object to detect (e.g., \"person\")\n",
    "object_to_detect = \"person\"  # You can change this to another class if needed\n",
    "\n",
    "# Function to preprocess the images\n",
    "def preprocess_data(example):\n",
    "    # Normalizing the image\n",
    "    image = example['image']\n",
    "    image = tf.image.resize(image, (128, 128))  # Resize all images to 128x128 for simplicity\n",
    "    image = image / 255.0  # Normalize between 0 and 1\n",
    "    \n",
    "    # Extracting the bounding box\n",
    "    labels = example['objects']['label']\n",
    "    bbox = example['objects']['bbox']\n",
    "    \n",
    "    # Check if the object to detect is in the image\n",
    "    object_present = tf.reduce_any(labels == info.features['objects']['label'].names.index(object_to_detect))\n",
    "    \n",
    "    # Take the first bounding box (if present), else set bbox to zeros\n",
    "    bbox = bbox[0] if object_present else tf.constant([0.0, 0.0, 0.0, 0.0])\n",
    "\n",
    "    return image, bbox\n",
    "\n",
    "# Applying the preprocessing function to datasets\n",
    "train_ds = train_ds.map(preprocess_data, num_parallel_calls=tf.data.AUTOTUNE).batch(32).prefetch(tf.data.AUTOTUNE)\n",
    "val_ds = val_ds.map(preprocess_data, num_parallel_calls=tf.data.AUTOTUNE).batch(32).prefetch(tf.data.AUTOTUNE)\n",
    "test_ds = test_ds.map(preprocess_data, num_parallel_calls=tf.data.AUTOTUNE).batch(32).prefetch(tf.data.AUTOTUNE)"
   ]
  },
  {
   "cell_type": "code",
   "execution_count": null,
   "id": "2a43d53b-9723-4cb8-ad31-b3a0e7e49a46",
   "metadata": {},
   "outputs": [],
   "source": [
    "# Build a simple CNN model for object detection\n",
    "def create_model():\n",
    "    model = tf.keras.Sequential([\n",
    "        tf.keras.layers.Conv2D(32, (3, 3), activation='relu', input_shape=(128, 128, 3)),\n",
    "        tf.keras.layers.MaxPooling2D((2, 2)),\n",
    "        tf.keras.layers.Conv2D(64, (3, 3), activation='relu'),\n",
    "        tf.keras.layers.MaxPooling2D((2, 2)),\n",
    "        tf.keras.layers.Conv2D(128, (3, 3), activation='relu'),\n",
    "        tf.keras.layers.MaxPooling2D((2, 2)),\n",
    "        tf.keras.layers.Conv2D(256, (3, 3), activation='relu'),\n",
    "        tf.keras.layers.MaxPooling2D((2, 2)),\n",
    "        tf.keras.layers.Flatten(),\n",
    "        tf.keras.layers.Dense(512, activation='relu'),\n",
    "        tf.keras.layers.Dense(4, activation='sigmoid')  # Output layer for bounding box coordinates (xmin, ymin, xmax, ymax)\n",
    "    ])\n",
    "    \n",
    "    model.compile(optimizer='adam', loss='mse', metrics=['accuracy'])\n",
    "    return model\n",
    "\n",
    "# Initialize the model\n",
    "model = create_model()\n",
    "\n",
    "# Train the model\n",
    "history = model.fit(train_ds, validation_data=val_ds, epochs=10)\n",
    "\n",
    "# Evaluate the model on the test set\n",
    "test_loss, test_acc = model.evaluate(test_ds)\n",
    "print(f'Test Accuracy: {test_acc}')\n",
    "\n",
    "# Example of visualizing a prediction\n",
    "def visualize_prediction(image, bbox):\n",
    "    fig, ax = plt.subplots(1)\n",
    "    ax.imshow(image)\n",
    "    # Denormalize bbox coordinates\n",
    "    bbox = bbox * [image.shape[1], image.shape[0], image.shape[1], image.shape[0]]\n",
    "    rect = plt.Rectangle((bbox[0], bbox[1]), bbox[2] - bbox[0], bbox[3] - bbox[1],\n",
    "                         linewidth=1, edgecolor='r', facecolor='none')\n",
    "    ax.add_patch(rect)\n",
    "    plt.show()"
   ]
  },
  {
   "cell_type": "code",
   "execution_count": null,
   "id": "e7d8a75f-b540-4061-9250-5c315d7c55e8",
   "metadata": {},
   "outputs": [],
   "source": [
    "# Run predictions on the test set\n",
    "for image, true_bbox in test_ds.take(1):\n",
    "    pred_bbox = model.predict(tf.expand_dims(image[0], axis=0))\n",
    "    visualize_prediction(image[0].numpy(), pred_bbox[0])"
   ]
  },
  {
   "cell_type": "code",
   "execution_count": null,
   "id": "90e04f44-81cb-4f35-bb17-1212424c764a",
   "metadata": {},
   "outputs": [],
   "source": []
  },
  {
   "cell_type": "code",
   "execution_count": null,
   "id": "2356659c-58ba-4020-b063-36b2932574bb",
   "metadata": {},
   "outputs": [],
   "source": []
  }
 ],
 "metadata": {
  "kernelspec": {
   "display_name": "Python (tf_with_py38_gpu_29)",
   "language": "python",
   "name": "tf_with_py38_gpu_29"
  },
  "language_info": {
   "codemirror_mode": {
    "name": "ipython",
    "version": 3
   },
   "file_extension": ".py",
   "mimetype": "text/x-python",
   "name": "python",
   "nbconvert_exporter": "python",
   "pygments_lexer": "ipython3",
   "version": "3.8.13"
  }
 },
 "nbformat": 4,
 "nbformat_minor": 5
}

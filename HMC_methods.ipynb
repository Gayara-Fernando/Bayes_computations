{
 "cells": [
  {
   "cell_type": "markdown",
   "id": "a8d439f8-13fe-4deb-b6cd-1a188145a494",
   "metadata": {},
   "source": [
    "We are ready for Hamiltonian Monte Carlo methods. We need to specifically understand the NUTs sampler."
   ]
  },
  {
   "cell_type": "code",
   "execution_count": 5,
   "id": "e579d095-5b7a-496c-a344-6abf9e110ece",
   "metadata": {},
   "outputs": [],
   "source": [
    "import numpy as np"
   ]
  },
  {
   "cell_type": "code",
   "execution_count": 6,
   "id": "b8bcf804-af5c-4cd2-9de5-5ef4c162be2a",
   "metadata": {},
   "outputs": [],
   "source": [
    "# Define the target distribution (e.g., a standard Gaussian)\n",
    "def target_log_prob(x):\n",
    "    return -0.5 * np.sum(x**2)\n",
    "\n",
    "# Gradient of the target log-probability\n",
    "def grad_log_prob(x):\n",
    "    return -x\n",
    "\n",
    "# Leapfrog integrator\n",
    "def leapfrog(x, p, step_size, num_steps):\n",
    "    x_new = np.copy(x)\n",
    "    p_new = np.copy(p)\n",
    "    \n",
    "    # Half step for momentum at the beginning\n",
    "    p_new -= 0.5 * step_size * grad_log_prob(x_new)\n",
    "    \n",
    "    # Full step for position\n",
    "    for _ in range(num_steps):\n",
    "        x_new += step_size * p_new\n",
    "        # Full step for momentum (except last iteration)\n",
    "        if _ != num_steps - 1:\n",
    "            p_new -= step_size * grad_log_prob(x_new)\n",
    "    \n",
    "    # Half step for momentum at the end\n",
    "    p_new -= 0.5 * step_size * grad_log_prob(x_new)\n",
    "    \n",
    "    return x_new, p_new\n",
    "\n",
    "# Hamiltonian function (H = Kinetic + Potential)\n",
    "def hamiltonian(x, p):\n",
    "    kinetic = 0.5 * np.sum(p**2)  # Kinetic energy from momentum (Gaussian)\n",
    "    potential = -target_log_prob(x)  # Potential energy from target distribution\n",
    "    return kinetic + potential\n",
    "\n",
    "# HMC sampler\n",
    "def hmc_sampler(init_x, step_size, num_steps, num_samples):\n",
    "    samples = []\n",
    "    x = np.copy(init_x)\n",
    "    \n",
    "    for _ in range(num_samples):\n",
    "        # Sample momentum from standard normal\n",
    "        p = np.random.randn(*x.shape)\n",
    "        \n",
    "        # Save the current state\n",
    "        current_x = np.copy(x)\n",
    "        current_p = np.copy(p)\n",
    "        \n",
    "        # Perform leapfrog integration\n",
    "        new_x, new_p = leapfrog(x, p, step_size, num_steps)\n",
    "        \n",
    "        # Calculate Hamiltonians\n",
    "        current_H = hamiltonian(current_x, current_p)\n",
    "        new_H = hamiltonian(new_x, new_p)\n",
    "        \n",
    "        # Metropolis-Hastings correction\n",
    "        if np.random.rand() < np.exp(current_H - new_H):\n",
    "            x = new_x  # Accept the new state\n",
    "        # else: reject and keep the current state\n",
    "        \n",
    "        samples.append(np.copy(x))\n",
    "    \n",
    "    return np.array(samples)\n",
    "\n"
   ]
  },
  {
   "cell_type": "code",
   "execution_count": 7,
   "id": "dbeb4c26-334a-4ebe-9bce-77d53ffb6ef2",
   "metadata": {},
   "outputs": [
    {
     "name": "stdout",
     "output_type": "stream",
     "text": [
      "[[ 0.        ]\n",
      " [ 0.        ]\n",
      " [-0.62109831]\n",
      " [-0.18447019]\n",
      " [-0.64700874]\n",
      " [-0.64700874]\n",
      " [-0.64700874]\n",
      " [ 0.84892764]\n",
      " [ 1.1016588 ]\n",
      " [ 0.87966707]]\n"
     ]
    }
   ],
   "source": [
    "# Parameters\n",
    "init_x = np.array([0.0])  # Initial position\n",
    "step_size = 0.1  # Step size for leapfrog\n",
    "num_steps = 10  # Number of leapfrog steps\n",
    "num_samples = 1000  # Number of samples to generate\n",
    "\n",
    "# Run HMC\n",
    "samples = hmc_sampler(init_x, step_size, num_steps, num_samples)\n",
    "\n",
    "# Print the first few samples\n",
    "print(samples[:10])"
   ]
  }
 ],
 "metadata": {
  "kernelspec": {
   "display_name": "Python (tfp_env_TN_CPU)",
   "language": "python",
   "name": "tfp_env_tn_cpu"
  },
  "language_info": {
   "codemirror_mode": {
    "name": "ipython",
    "version": 3
   },
   "file_extension": ".py",
   "mimetype": "text/x-python",
   "name": "python",
   "nbconvert_exporter": "python",
   "pygments_lexer": "ipython3",
   "version": "3.11.7"
  }
 },
 "nbformat": 4,
 "nbformat_minor": 5
}

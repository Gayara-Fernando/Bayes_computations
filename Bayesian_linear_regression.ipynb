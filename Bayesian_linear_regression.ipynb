{
 "cells": [
  {
   "cell_type": "markdown",
   "id": "24fdde2d-d9b9-4f61-9d89-6906d1ec3a8a",
   "metadata": {},
   "source": [
    "#### Bayesian Linear Regression with Metropolis Hastings"
   ]
  },
  {
   "cell_type": "markdown",
   "id": "6d2b2f0b-d88b-4783-924e-c01d55b6f149",
   "metadata": {},
   "source": [
    "This notebook does linear regression with metropolis hastings from scratch to understand what is going on. We do not use any programing packages to get the parameters of the linear model. We however, will have to see how to get the posterior predictions for this model. As per Gelfand, it is fine to go with the found betas and error variance for the new observations. We follow the article at https://medium.com/@tinonucera/bayesian-linear-regression-from-scratch-a-metropolis-hastings-implementation-63526857f191. For simplicity, we are just considering a single predictor model with unknown error variance to understand what goes under the hood. "
   ]
  },
  {
   "cell_type": "markdown",
   "id": "d618ae19-c4db-4e6a-ad69-aa894a58f805",
   "metadata": {},
   "source": [
    "Let Y and X be a response and a predictor for the model, respectively. The linear regression modedl is given by \n",
    "\n",
    "$Y|X \\sim N (aX + b, \\sigma^2)$\n",
    "\n",
    "Our task is inferring $a$, $b$, and $σ$."
   ]
  },
  {
   "cell_type": "markdown",
   "id": "e544b39f-5363-4da2-aed4-57c282339f31",
   "metadata": {},
   "source": [
    "In this case, let’s generate synthetic data for the regression, using parameters $a=3$, $b=20$ and $σ=5$."
   ]
  },
  {
   "cell_type": "code",
   "execution_count": 1,
   "id": "cc3ec2b7-c93f-488a-ad3c-163ae751dafe",
   "metadata": {},
   "outputs": [],
   "source": [
    "import numpy as np\n",
    "import matplotlib.pyplot as plt\n",
    "import scipy.stats as sc"
   ]
  },
  {
   "cell_type": "code",
   "execution_count": 2,
   "id": "efb8a9d6-f17d-4600-aa20-02ee0edce1cb",
   "metadata": {},
   "outputs": [],
   "source": [
    "# sample x\n",
    "np.random.seed(2024)\n",
    "x = np.random.rand(100)*30"
   ]
  },
  {
   "cell_type": "code",
   "execution_count": 3,
   "id": "36024ab2-1cfb-4e5d-b233-59bac935d0ce",
   "metadata": {},
   "outputs": [
    {
     "data": {
      "text/plain": [
       "(100,)"
      ]
     },
     "execution_count": 3,
     "metadata": {},
     "output_type": "execute_result"
    }
   ],
   "source": [
    "x.shape"
   ]
  },
  {
   "cell_type": "code",
   "execution_count": 4,
   "id": "bd71d740-a08e-49bb-bfe9-b81986e554cd",
   "metadata": {},
   "outputs": [],
   "source": [
    "# set parameters\n",
    "a = 3\n",
    "b = 20\n",
    "sigma = 5"
   ]
  },
  {
   "cell_type": "code",
   "execution_count": 5,
   "id": "d48e7b00-4e67-42e6-9118-96efd0d542cc",
   "metadata": {},
   "outputs": [],
   "source": [
    "# obtain response and add noise\n",
    "y = a*x+b\n",
    "noise = np.random.randn(100)*sigma\n",
    "y = y + noise"
   ]
  },
  {
   "cell_type": "code",
   "execution_count": 6,
   "id": "3fc05a18-384a-4913-8af5-20311d3f60c5",
   "metadata": {},
   "outputs": [],
   "source": [
    "# create a matrix containing the predictor in the first column\n",
    "# and the response in the second\n",
    "data = np.vstack((x,y)).T"
   ]
  },
  {
   "cell_type": "code",
   "execution_count": 7,
   "id": "526d6a89-9827-4846-b73d-e8c6e3ffae61",
   "metadata": {},
   "outputs": [
    {
     "data": {
      "text/plain": [
       "(100, 1)"
      ]
     },
     "execution_count": 7,
     "metadata": {},
     "output_type": "execute_result"
    }
   ],
   "source": [
    "noise.reshape(-1,1).shape"
   ]
  },
  {
   "cell_type": "code",
   "execution_count": 8,
   "id": "8dc62efc-3f29-46b3-b248-d93c9fad9188",
   "metadata": {},
   "outputs": [
    {
     "data": {
      "image/png": "[encoded data removed]",
      "text/plain": [
       "<Figure size 640x480 with 1 Axes>"
      ]
     },
     "metadata": {},
     "output_type": "display_data"
    }
   ],
   "source": [
    "# plot data \n",
    "plt.scatter(data[:,0], data[:,1], color = 'orange')\n",
    "plt.xlabel(\"x\")\n",
    "plt.ylabel(\"y\")\n",
    "plt.show()"
   ]
  },
  {
   "cell_type": "markdown",
   "id": "748c2c93-c937-4897-a6cc-e6c15978b574",
   "metadata": {},
   "source": [
    "Now let's move on to defining the MH part. and looping though iterations."
   ]
  },
  {
   "cell_type": "markdown",
   "id": "0ac20642-2e92-4fe4-91b8-11135bfe84e8",
   "metadata": {},
   "source": [
    "Let θ=[a,b,σ] be the vector of parameters at the previous step of the algorithm and θ’ be a proposal for a new set of parameters, MH compares the Bayes Factor (the product of likelihood and prior) between two competing hypotheses for the parameters (θ’ and θ) and scales this factor by the reciprocal of the conditional proposal distribution. This factor is then compared with the value of a uniformly distributed random variable. This adds stochasticity to the model and makes it possible for unlikely parameter vectors to be explored and for likely ones to be discarded (rarely)."
   ]
  },
  {
   "cell_type": "markdown",
   "id": "9fbef963-6445-4416-b1da-9ad1255234e4",
   "metadata": {},
   "source": [
    "##### Let's define the proposal distribution"
   ]
  },
  {
   "cell_type": "markdown",
   "id": "99269bbd-6f1c-45fa-9172-29520b2ef107",
   "metadata": {},
   "source": [
    "First, we define a proposal distribution g(θ’|θ): this is a distribution for fixed parameters at the previous time step. In our example, a and b can be both positive and negative, therefore a natural choice would be sampling them from a multivariate normal distribution centered at the previous iteration step. As for σ, we can for example sample it from a Gamma distribution. It is really up to the user defining all these distributions."
   ]
  },
  {
   "cell_type": "markdown",
   "id": "5fbfffdb-b95d-463e-b2e9-7f0b1f1a4dc6",
   "metadata": {},
   "source": [
    "As a result, we can define a proposal distribution in the following way:\n",
    "\n",
    "$\\begin{pmatrix}\n",
    "a'\\\\\n",
    "b'\n",
    "\\end{pmatrix} \\sim N \\begin{pmatrix} \\begin{pmatrix}\n",
    "a\\\\\n",
    "b\n",
    "\\end{pmatrix}, \\begin{pmatrix}\n",
    "k^2 & 0\\\\\n",
    "0 & k^2\n",
    "\\end{pmatrix}\n",
    "\\end{pmatrix}$\n",
    "(proposal distribution for a and b)\n",
    "\n",
    "And $\\sigma' \\sim gamma(\\sigma kw, kw)$\n",
    "(proposal distrribution for $\\sigma$)"
   ]
  },
  {
   "cell_type": "markdown",
   "id": "51bd9383-520d-4573-a980-318aecdd6f7d",
   "metadata": {},
   "source": [
    "The parameter k is used to control the “spread” of the distributions around their means. 𝜔 is an extra adjustment for the Gamma. The larger k𝜔, the bigger the spread for the gamma (we are using the shape-rate formulation of the Gamma distribution, be careful as scipy forces us to use the shape-scale formulation instead). "
   ]
  },
  {
   "cell_type": "markdown",
   "id": "d8d28c9b-c099-4000-a5ea-a3985539765e",
   "metadata": {},
   "source": [
    "Define the proposal distribution function as below."
   ]
  },
  {
   "cell_type": "code",
   "execution_count": 9,
   "id": "acbe1ee7-8047-467d-b1fc-75296b099dd2",
   "metadata": {},
   "outputs": [],
   "source": [
    "def proposal(prec_theta, search_width = 0.5):\n",
    "    # this function generates the proposal for the new theta\n",
    "    # we assume that the distribution of the random variables \n",
    "    # is normal for the first two and gamma for the third.\n",
    "    # conditional on the previous value of the accepted parameters (prec_theta)\n",
    "    # search width is the k parameter above\n",
    "    out_theta = np.zeros(3)\n",
    "    out_theta[:2] = sc.multivariate_normal(mean=prec_theta[:2],cov=np.eye(2)*search_width**2).rvs(1)\n",
    "    #the last component is the noise\n",
    "    out_theta[2] = sc.gamma(a=prec_theta[2]*search_width*500, scale=1/(500*search_width)).rvs()\n",
    "    return out_theta"
   ]
  },
  {
   "cell_type": "markdown",
   "id": "280b6216-c482-4871-9ddb-32b8ef529f78",
   "metadata": {},
   "source": [
    "You can notice how the function proposal contains two arguments: prec_theta represents the parameter vector at the previous step and search_width represents the region where we will be looking for proposals. Looking for a good set of parameters introduces a trade-off between exploration (the search for new parameters set in unexplored areas) and exploitation (refining the search closer to the areas where good sets of parameters have been found). As a result, search_width should be handled with extreme care. A large value of search_widthwill prevent the MCMC from converging to a stationary distribution. A small value may prevent the algorithm from finding the optimum (optima) in a reasonable amount of time (more samples will need to be drawn and longer burn-in period would be expected)."
   ]
  },
  {
   "cell_type": "markdown",
   "id": "e386f8eb-edc2-4e15-93f6-38274f2da36e",
   "metadata": {},
   "source": [
    "##### Likelihood function"
   ]
  },
  {
   "cell_type": "code",
   "execution_count": 10,
   "id": "1b86515d-4b99-4653-9736-555b419aed70",
   "metadata": {},
   "outputs": [],
   "source": [
    "def lhd(x,theta):\n",
    "    # x is the data matrix, first column for input and second column for output.\n",
    "    # theta is a vector containing the parameters for the evaluation\n",
    "    # remember theta[0] is a, theta[1] is b and theta[2] is sigma\n",
    "    xs = x[:,0]\n",
    "    ys = x[:,1]\n",
    "    lhd_out = sc.norm.logpdf(ys, loc=theta[0]*xs+theta[1], scale=theta[2])\n",
    "    # then we sum lhd_out (be careful here, we are summing instead of multiplying\n",
    "    # because we are dealing with the log-likelihood, instead of the raw likelihood).\n",
    "    lhd_out = np.sum(lhd_out)\n",
    "    return lhd_out"
   ]
  },
  {
   "cell_type": "markdown",
   "id": "0767efd3-2cc6-48a5-9561-e963a1bdea82",
   "metadata": {},
   "source": [
    "##### Prioir"
   ]
  },
  {
   "cell_type": "markdown",
   "id": "6315b6bf-2765-441f-84af-27c066e1ce57",
   "metadata": {},
   "source": [
    "We do not need to spend a lot of words on this. We can really choose anything we like in term of distribution for the prior. All we need to do is to make sure that the zone where the inferred-to-be parameters are likely to be found have non-zero prior, and that the noise parameter σ is non-negative. Again, the prior is expressed in terms of a log-pdf."
   ]
  },
  {
   "cell_type": "code",
   "execution_count": 11,
   "id": "b49586d5-616b-4fa1-83c0-9c963cf47e11",
   "metadata": {},
   "outputs": [],
   "source": [
    "def prior(theta):\n",
    "    # evaluate the prior for the parameters on a multivariate gaussian. \n",
    "    prior_out = sc.multivariate_normal.logpdf(theta[:2],mean=np.array([0,0]), cov=np.eye(2)*100)\n",
    "    # this needs to be summed to the prior for the sigma, since I assumed independence.\n",
    "    prior_out += sc.gamma.logpdf(theta[2], a=1, scale=1)\n",
    "    return prior_out"
   ]
  },
  {
   "cell_type": "markdown",
   "id": "76676293-65b1-40d6-b596-37b388f59b1e",
   "metadata": {},
   "source": [
    "Proporsal ratio"
   ]
  },
  {
   "cell_type": "markdown",
   "id": "836c9824-b974-4799-8675-f9d83586ea1b",
   "metadata": {},
   "source": [
    "The proposal ratio is the likelihood of observing the old parameter vector given the new one divided by the probability of observing the new parameter vector given the old one. That is, g(θ|θ’)/g(θ’|θ). Again, we will employ the log-pdf so as to have uniformity of scales across probabilities and to achieve better numerical stability."
   ]
  },
  {
   "cell_type": "code",
   "execution_count": 12,
   "id": "2e2e9495-3eb5-4006-a25e-97bf816b92e5",
   "metadata": {},
   "outputs": [],
   "source": [
    "def proposal_ratio(theta_old, theta_new, search_width=10):\n",
    "    # this is the proposal distribution ratio\n",
    "    # first, we calculate of the pdf of the proposal distribution at the old value of theta with respect to the new \n",
    "    # value of theta. And then we do the exact opposite.\n",
    "    prop_ratio_out = sc.multivariate_normal.logpdf(theta_old[:2],mean=theta_new[:2], cov=np.eye(2)*search_width**2)\n",
    "    prop_ratio_out += sc.gamma.logpdf(theta_old[2], a=theta_new[2]*search_width*500, scale=1/(500*search_width))\n",
    "    prop_ratio_out -= sc.multivariate_normal.logpdf(theta_new[:2],mean=theta_old[:2], cov=np.eye(2)*search_width**2)\n",
    "    prop_ratio_out -= sc.gamma.logpdf(theta_new[2], a=theta_old[2]*search_width*500, scale=1/(500*search_width))\n",
    "    return prop_ratio_out"
   ]
  },
  {
   "cell_type": "markdown",
   "id": "fbe2b4c7-4d23-4d4c-b756-fe14f884ec4b",
   "metadata": {},
   "source": [
    "Algorithm"
   ]
  },
  {
   "cell_type": "code",
   "execution_count": 13,
   "id": "301d88e6-167a-4faf-8bbd-6d3efc87a257",
   "metadata": {},
   "outputs": [],
   "source": [
    "# 1) Instantiate initial values for the parameter vector\n",
    "\n",
    "# ... N TIMES or UNTIL CONVERGENCE\n",
    "# 2) Draw a new parameter vector from the proposal\n",
    "# 3) Calculate likelihood, prior pdf value and the reciprocal of the proposal likelihood ratio\n",
    "# 4) Multiply all the quantities in 3 (or sum if in log) and compare this ratio (in linear scale)\n",
    "     # against a number drawn from a uniform distribution. \n",
    "# 5) If the ratio is larger, the new parameter vector is accepted.\n",
    "     # Otherwise, the new parameter vector is rejected.\n",
    "# 6) Move to 2)"
   ]
  },
  {
   "cell_type": "code",
   "execution_count": 22,
   "id": "ed3427c7-8a4b-4211-8266-1db9021aea1b",
   "metadata": {},
   "outputs": [
    {
     "name": "stderr",
     "output_type": "stream",
     "text": [
      "<timed exec>:33: RuntimeWarning: overflow encountered in exp\n"
     ]
    },
    {
     "name": "stdout",
     "output_type": "stream",
     "text": [
      "CPU times: user 3min 44s, sys: 38.9 ms, total: 3min 44s\n",
      "Wall time: 3min 45s\n"
     ]
    }
   ],
   "source": [
    "%%time\n",
    "np.random.seed(100)\n",
    "width = 0.2\n",
    "\n",
    "thetas = np.random.rand(3).reshape(1,-1)\n",
    "accepted = 0\n",
    "rejected = 0\n",
    "\n",
    "N = 100000\n",
    "\n",
    "for i in range(N):\n",
    "\n",
    "    # 1) provide a proposal for theta\n",
    "    theta_new = proposal(thetas[-1,:], search_width=width)\n",
    "    \n",
    "    # 2) calculate the likelihood of this proposal and the likelihood\n",
    "    # for the old value of theta\n",
    "    log_lik_theta_new = lhd(data,theta_new)\n",
    "    log_lik_theta = lhd(data,thetas[-1,:])\n",
    "    \n",
    "    # 3) evaluate the prior log-pdf at the current and at the old value of theta\n",
    "    theta_new_prior = prior(theta_new)\n",
    "    theta_prior = prior(thetas[-1,:])\n",
    "    \n",
    "    # 4) finally, we need the proposal distribution ratio\n",
    "    prop_ratio = proposal_ratio(thetas[-1], theta_new, search_width=width)\n",
    "    \n",
    "    # 5) assemble likelihood, priors and proposal distributions\n",
    "    likelihood_prior_proposal_ratio = log_lik_theta_new - log_lik_theta + prop_ratio\n",
    "    \n",
    "    # 6) throw a - possibly infinitely weigthed - coin. The move for Metropolis-Hastings is\n",
    "    # not deterministic. Here, we exponentiate the likelihood_prior_proposal ratio in order\n",
    "    # to obtain the probability in linear scale\n",
    "    if np.exp(likelihood_prior_proposal_ratio) > sc.uniform().rvs():\n",
    "        thetas = np.vstack((thetas,theta_new))\n",
    "        accepted += 1\n",
    "    else:\n",
    "        rejected += 1"
   ]
  },
  {
   "cell_type": "code",
   "execution_count": 23,
   "id": "6ae28e76-39a5-44ee-83c6-e8a271f98d84",
   "metadata": {},
   "outputs": [
    {
     "data": {
      "text/plain": [
       "(16340, 3)"
      ]
     },
     "execution_count": 23,
     "metadata": {},
     "output_type": "execute_result"
    }
   ],
   "source": [
    "thetas.shape"
   ]
  },
  {
   "cell_type": "code",
   "execution_count": 24,
   "id": "2826a251-a055-4b44-8f36-6f5850393d2b",
   "metadata": {},
   "outputs": [
    {
     "data": {
      "text/plain": [
       "16339"
      ]
     },
     "execution_count": 24,
     "metadata": {},
     "output_type": "execute_result"
    }
   ],
   "source": [
    "# see if the shape[0] - 1 agrees with the number of accepted proposal/current likelihood ratio.\n",
    "accepted"
   ]
  },
  {
   "cell_type": "markdown",
   "id": "69e53836-dca2-41af-9686-46d739165e5f",
   "metadata": {},
   "source": [
    "plot the posterior distributions fo the parameters and observe the curves to see how they look like? We are currently not considering a burn-in period, but ideally we should."
   ]
  },
  {
   "cell_type": "code",
   "execution_count": 25,
   "id": "92c9b414-8375-406c-b5b7-7e3ab1f5ff26",
   "metadata": {},
   "outputs": [],
   "source": [
    "a = thetas[:,0]\n",
    "b = thetas[:,1]\n",
    "sigma = thetas[:,2]"
   ]
  },
  {
   "cell_type": "code",
   "execution_count": 26,
   "id": "6f30089a-e55d-4624-8d7a-5e3f8a7a2314",
   "metadata": {},
   "outputs": [
    {
     "data": {
      "text/plain": [
       "(16340,)"
      ]
     },
     "execution_count": 26,
     "metadata": {},
     "output_type": "execute_result"
    }
   ],
   "source": [
    "a.shape"
   ]
  },
  {
   "cell_type": "code",
   "execution_count": 27,
   "id": "7be46284-89e2-49e0-8ac8-3b00f1c2e5a0",
   "metadata": {},
   "outputs": [
    {
     "data": {
      "image/png": "[encoded data removed]",
      "text/plain": [
       "<Figure size 640x480 with 1 Axes>"
      ]
     },
     "metadata": {},
     "output_type": "display_data"
    }
   ],
   "source": [
    "# Plotting the posterior distribution\n",
    "plt.hist(a, density=True, bins = 100, alpha=0.6)\n",
    "plt.title('Posterior samples for a')\n",
    "plt.xlim(2.5, 3.5)\n",
    "plt.xlabel('$a$')\n",
    "plt.ylabel('Density')\n",
    "plt.show()"
   ]
  },
  {
   "cell_type": "code",
   "execution_count": 28,
   "id": "c6b0c71d-ebe6-471b-85b6-055cc417e32f",
   "metadata": {},
   "outputs": [
    {
     "data": {
      "image/png": "[encoded data removed]",
      "text/plain": [
       "<Figure size 640x480 with 1 Axes>"
      ]
     },
     "metadata": {},
     "output_type": "display_data"
    }
   ],
   "source": [
    "# Plotting the posterior distribution\n",
    "plt.hist(b, density=True ,bins = 100, alpha=0.6)\n",
    "plt.title('Posterior samples for b')\n",
    "plt.xlim(15, 25)\n",
    "plt.xlabel('$b$')\n",
    "plt.ylabel('Density')\n",
    "plt.show()"
   ]
  },
  {
   "cell_type": "code",
   "execution_count": 29,
   "id": "0dcede07-a6ee-4314-9040-ec10fc541a36",
   "metadata": {},
   "outputs": [
    {
     "data": {
      "image/png": "[encoded data removed]",
      "text/plain": [
       "<Figure size 640x480 with 1 Axes>"
      ]
     },
     "metadata": {},
     "output_type": "display_data"
    }
   ],
   "source": [
    "# Plotting the posterior distribution\n",
    "plt.hist(sigma, bins=100, density=True , alpha=0.6)\n",
    "plt.title('Posterior samples for sigma')\n",
    "plt.xlim(3,7)\n",
    "plt.xlabel('$\\\\sigma$')\n",
    "plt.ylabel('Density')\n",
    "plt.show()"
   ]
  },
  {
   "cell_type": "markdown",
   "id": "a9a61b37-b50c-417e-babf-1f259158f32a",
   "metadata": {},
   "source": [
    "Note the distributions (posteriors from the MH sampling algorithm) do in fact center around the true values we assumed in generating the synthetic data."
   ]
  },
  {
   "cell_type": "markdown",
   "id": "e9b12905-9244-4e32-9781-00af0da0a0f0",
   "metadata": {},
   "source": [
    "here is a code from chatgpt - This makes more sense but check with Dr. Ghosh if we need the thing that is called proposal ratio. Also in the previous code, he only keeps the accepted thetas, but we carry over if not kept? I think that is wrong in the previous code."
   ]
  },
  {
   "cell_type": "code",
   "execution_count": 30,
   "id": "cec7398d-0070-4e2b-bc73-d0eab444cf2d",
   "metadata": {},
   "outputs": [],
   "source": [
    "import numpy as np\n",
    "import matplotlib.pyplot as plt\n",
    "\n",
    "# Generate synthetic data\n",
    "np.random.seed(42)\n",
    "n_samples = 100\n",
    "true_beta_0 = 2.0  # true intercept\n",
    "true_beta_1 = 3.0  # true slope\n",
    "true_sigma = 1.0   # true standard deviation of errors\n",
    "x = np.random.uniform(0, 10, n_samples)\n",
    "y = true_beta_0 + true_beta_1 * x + np.random.normal(0, true_sigma, n_samples)\n",
    "\n",
    "# Prior parameters\n",
    "beta_0_prior_mean = 0\n",
    "beta_1_prior_mean = 0\n",
    "tau_0 = 10  # prior variance for beta_0\n",
    "tau_1 = 10  # prior variance for beta_1\n",
    "alpha = 2   # shape parameter for the inverse-gamma prior on sigma^2\n",
    "beta = 2    # scale parameter for the inverse-gamma prior on sigma^2\n",
    "\n",
    "# Proposal distribution standard deviations\n",
    "proposal_std_beta_0 = 0.5\n",
    "proposal_std_beta_1 = 0.5\n",
    "proposal_std_sigma = 0.5"
   ]
  },
  {
   "cell_type": "code",
   "execution_count": 31,
   "id": "5f38789c-8c08-4f67-9340-02aa16ada928",
   "metadata": {},
   "outputs": [],
   "source": [
    "# Define the likelihood function (log-likelihood for numerical stability)\n",
    "def log_likelihood(y, x, beta_0, beta_1, sigma):\n",
    "    n = len(y)\n",
    "    residuals = y - (beta_0 + beta_1 * x)\n",
    "    return -0.5 * n * np.log(2 * np.pi * sigma**2) - 0.5 * np.sum(residuals**2) / sigma**2"
   ]
  },
  {
   "cell_type": "code",
   "execution_count": 32,
   "id": "1fed7e08-0a6f-40ac-95fe-5d7f350945d0",
   "metadata": {},
   "outputs": [],
   "source": [
    "# Define the prior distributions (log-prior for numerical stability)\n",
    "def log_prior(beta_0, beta_1, sigma, beta_0_prior_mean, beta_1_prior_mean, tau_0, tau_1, alpha, beta):\n",
    "    log_prior_beta_0 = -0.5 * (beta_0 - beta_0_prior_mean)**2 / tau_0**2\n",
    "    log_prior_beta_1 = -0.5 * (beta_1 - beta_1_prior_mean)**2 / tau_1**2\n",
    "    log_prior_sigma = (alpha - 1) * np.log(sigma**2) - (sigma**2 / beta) - alpha * np.log(beta)\n",
    "    return log_prior_beta_0 + log_prior_beta_1 + log_prior_sigma"
   ]
  },
  {
   "cell_type": "code",
   "execution_count": 33,
   "id": "a4b86fc7-ced1-459a-9994-76d79253758b",
   "metadata": {},
   "outputs": [],
   "source": [
    "# Metropolis-Hastings sampler\n",
    "def metropolis_hastings_linear_regression(y, x, n_iters=10000):\n",
    "    # Initialize the chain\n",
    "    beta_0_current = np.random.normal()\n",
    "    beta_1_current = np.random.normal()\n",
    "    sigma_current = np.random.normal(loc=1.0, scale=0.5)  # Initialize with a positive value\n",
    "    chain = []\n",
    "\n",
    "    for i in range(n_iters):\n",
    "        # Propose new values for beta_0, beta_1, and sigma\n",
    "        beta_0_proposal = np.random.normal(beta_0_current, proposal_std_beta_0)\n",
    "        beta_1_proposal = np.random.normal(beta_1_current, proposal_std_beta_1)\n",
    "        sigma_proposal = abs(np.random.normal(sigma_current, proposal_std_sigma))  # Ensure positive sigma\n",
    "\n",
    "        # Calculate the log of the acceptance ratio\n",
    "        log_posterior_current = log_likelihood(y, x, beta_0_current, beta_1_current, sigma_current) + \\\n",
    "                                log_prior(beta_0_current, beta_1_current, sigma_current, \n",
    "                                          beta_0_prior_mean, beta_1_prior_mean, tau_0, tau_1, alpha, beta)\n",
    "\n",
    "        log_posterior_proposal = log_likelihood(y, x, beta_0_proposal, beta_1_proposal, sigma_proposal) + \\\n",
    "                                 log_prior(beta_0_proposal, beta_1_proposal, sigma_proposal, \n",
    "                                           beta_0_prior_mean, beta_1_prior_mean, tau_0, tau_1, alpha, beta)\n",
    "\n",
    "        acceptance_ratio = np.exp(log_posterior_proposal - log_posterior_current)\n",
    "\n",
    "        # Accept or reject the proposal\n",
    "        if np.random.rand() < acceptance_ratio:\n",
    "            beta_0_current = beta_0_proposal\n",
    "            beta_1_current = beta_1_proposal\n",
    "            sigma_current = sigma_proposal\n",
    "\n",
    "        # Append the current values to the chain\n",
    "        chain.append([beta_0_current, beta_1_current, sigma_current])\n",
    "\n",
    "    return np.array(chain)       "
   ]
  },
  {
   "cell_type": "code",
   "execution_count": 38,
   "id": "974946f8-7abe-4c84-b32e-d63417b50088",
   "metadata": {},
   "outputs": [
    {
     "data": {
      "image/png": "[encoded data removed]",
      "text/plain": [
       "<Figure size 1500x500 with 3 Axes>"
      ]
     },
     "metadata": {},
     "output_type": "display_data"
    }
   ],
   "source": [
    "# Run the Metropolis-Hastings sampler\n",
    "n_iters = 100000\n",
    "chain = metropolis_hastings_linear_regression(y, x, n_iters=n_iters)\n",
    "\n",
    "# Extract the samples for each parameter\n",
    "beta_0_samples = chain[:, 0]\n",
    "beta_1_samples = chain[:, 1]\n",
    "sigma_samples = chain[:, 2]\n",
    "\n",
    "# Burn-in and thinning\n",
    "burn_in = 1000\n",
    "beta_0_samples = beta_0_samples[burn_in:]\n",
    "beta_1_samples = beta_1_samples[burn_in:]\n",
    "sigma_samples = sigma_samples[burn_in:]\n",
    "\n",
    "# Plotting the posterior distributions\n",
    "fig, axes = plt.subplots(1, 3, figsize=(15, 5))\n",
    "\n",
    "axes[0].hist(beta_0_samples, bins=30, density=True, alpha=0.6, label=\"Posterior of $\\\\beta_0$\")\n",
    "axes[0].axvline(true_beta_0, color='red', linestyle='--', label='True $\\\\beta_0$')\n",
    "axes[0].legend()\n",
    "\n",
    "axes[1].hist(beta_1_samples, bins=30, density=True, alpha=0.6, label=\"Posterior of $\\\\beta_1$\")\n",
    "axes[1].axvline(true_beta_1, color='red', linestyle='--', label='True $\\\\beta_1$')\n",
    "axes[1].legend()\n",
    "\n",
    "axes[2].hist(sigma_samples, bins=30, density=True, alpha=0.6, label=\"Posterior of $\\\\sigma$\")\n",
    "axes[2].axvline(true_sigma, color='red', linestyle='--', label='True $\\\\sigma$')\n",
    "axes[2].legend()\n",
    "\n",
    "plt.show()\n"
   ]
  },
  {
   "cell_type": "code",
   "execution_count": 39,
   "id": "7faa4e2e-0132-48f7-9fcd-1397c06fe4a5",
   "metadata": {},
   "outputs": [
    {
     "data": {
      "text/plain": [
       "100000"
      ]
     },
     "execution_count": 39,
     "metadata": {},
     "output_type": "execute_result"
    }
   ],
   "source": [
    "len(chain)"
   ]
  },
  {
   "cell_type": "code",
   "execution_count": null,
   "id": "5c7ae266-dea3-49a6-8371-cd599162ff4b",
   "metadata": {},
   "outputs": [],
   "source": []
  }
 ],
 "metadata": {
  "kernelspec": {
   "display_name": "Python (tfp_env_TN_CPU)",
   "language": "python",
   "name": "tfp_env_tn_cpu"
  },
  "language_info": {
   "codemirror_mode": {
    "name": "ipython",
    "version": 3
   },
   "file_extension": ".py",
   "mimetype": "text/x-python",
   "name": "python",
   "nbconvert_exporter": "python",
   "pygments_lexer": "ipython3",
   "version": "3.11.7"
  }
 },
 "nbformat": 4,
 "nbformat_minor": 5
}

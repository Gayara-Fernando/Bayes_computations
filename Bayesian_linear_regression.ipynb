{
 "cells": [
  {
   "cell_type": "markdown",
   "id": "24fdde2d-d9b9-4f61-9d89-6906d1ec3a8a",
   "metadata": {},
   "source": [
    "#### Bayesian Linear Regression with Metropolis Hastings"
   ]
  },
  {
   "cell_type": "markdown",
   "id": "6d2b2f0b-d88b-4783-924e-c01d55b6f149",
   "metadata": {},
   "source": [
    "This notebook does linear regression with metropolis hastings from scratch to understand what is going on. We do not use any programing packages to get the parameters of the linear model. We however, will have to see how to get the posterior predictions for this model. As per Gelfand, it is fine to go with the found betas and error variance for the new observations. We follow the article at https://medium.com/@tinonucera/bayesian-linear-regression-from-scratch-a-metropolis-hastings-implementation-63526857f191. For simplicity, we are just considering a single predictor model with unknown error variance to understand what goes under the hood. "
   ]
  },
  {
   "cell_type": "markdown",
   "id": "d618ae19-c4db-4e6a-ad69-aa894a58f805",
   "metadata": {},
   "source": [
    "Let Y and X be a response and a predictor for the model, respectively. The linear regression modedl is given by \n",
    "\n",
    "$Y|X \\sim N (aX + b, \\sigma^2)$\n",
    "\n",
    "Our task is inferring $a$, $b$, and $σ$."
   ]
  },
  {
   "cell_type": "markdown",
   "id": "e544b39f-5363-4da2-aed4-57c282339f31",
   "metadata": {},
   "source": [
    "In this case, let’s generate synthetic data for the regression, using parameters $a=3$, $b=20$ and $σ=5$."
   ]
  },
  {
   "cell_type": "code",
   "execution_count": 1,
   "id": "cc3ec2b7-c93f-488a-ad3c-163ae751dafe",
   "metadata": {},
   "outputs": [],
   "source": [
    "import numpy as np\n",
    "import matplotlib.pyplot as plt\n",
    "import scipy.stats as sc"
   ]
  },
  {
   "cell_type": "code",
   "execution_count": 2,
   "id": "efb8a9d6-f17d-4600-aa20-02ee0edce1cb",
   "metadata": {},
   "outputs": [],
   "source": [
    "# sample x\n",
    "np.random.seed(2024)\n",
    "x = np.random.rand(100)*30"
   ]
  },
  {
   "cell_type": "code",
   "execution_count": 3,
   "id": "36024ab2-1cfb-4e5d-b233-59bac935d0ce",
   "metadata": {},
   "outputs": [
    {
     "data": {
      "text/plain": [
       "(100,)"
      ]
     },
     "execution_count": 3,
     "metadata": {},
     "output_type": "execute_result"
    }
   ],
   "source": [
    "x.shape"
   ]
  },
  {
   "cell_type": "code",
   "execution_count": 4,
   "id": "bd71d740-a08e-49bb-bfe9-b81986e554cd",
   "metadata": {},
   "outputs": [],
   "source": [
    "# set parameters\n",
    "a = 3\n",
    "b = 20\n",
    "sigma = 5"
   ]
  },
  {
   "cell_type": "code",
   "execution_count": 5,
   "id": "d48e7b00-4e67-42e6-9118-96efd0d542cc",
   "metadata": {},
   "outputs": [],
   "source": [
    "# obtain response and add noise\n",
    "y = a*x+b\n",
    "noise = np.random.randn(100)*sigma\n",
    "y = y + noise"
   ]
  },
  {
   "cell_type": "code",
   "execution_count": 6,
   "id": "3fc05a18-384a-4913-8af5-20311d3f60c5",
   "metadata": {},
   "outputs": [],
   "source": [
    "# create a matrix containing the predictor in the first column\n",
    "# and the response in the second\n",
    "data = np.vstack((x,y)).T"
   ]
  },
  {
   "cell_type": "code",
   "execution_count": 7,
   "id": "526d6a89-9827-4846-b73d-e8c6e3ffae61",
   "metadata": {},
   "outputs": [
    {
     "data": {
      "text/plain": [
       "(100, 1)"
      ]
     },
     "execution_count": 7,
     "metadata": {},
     "output_type": "execute_result"
    }
   ],
   "source": [
    "noise.reshape(-1,1).shape"
   ]
  },
  {
   "cell_type": "code",
   "execution_count": 8,
   "id": "8dc62efc-3f29-46b3-b248-d93c9fad9188",
   "metadata": {},
   "outputs": [
    {
     "data": {
      "image/png": "[encoded data removed]",
      "text/plain": [
       "<Figure size 640x480 with 1 Axes>"
      ]
     },
     "metadata": {},
     "output_type": "display_data"
    }
   ],
   "source": [
    "# plot data \n",
    "plt.scatter(data[:,0], data[:,1], color = 'orange')\n",
    "plt.xlabel(\"x\")\n",
    "plt.ylabel(\"y\")\n",
    "plt.show()"
   ]
  },
  {
   "cell_type": "code",
   "execution_count": null,
   "id": "87810f21-09c2-4917-b667-c490308b009d",
   "metadata": {},
   "outputs": [],
   "source": []
  },
  {
   "cell_type": "code",
   "execution_count": null,
   "id": "e66e9278-8a52-49b7-a1e5-e094c0a2af77",
   "metadata": {},
   "outputs": [],
   "source": []
  },
  {
   "cell_type": "code",
   "execution_count": null,
   "id": "1c602c41-69be-4ab4-80fa-10d81979235f",
   "metadata": {},
   "outputs": [],
   "source": []
  }
 ],
 "metadata": {
  "kernelspec": {
   "display_name": "Python (tfp_env_TN_CPU)",
   "language": "python",
   "name": "tfp_env_tn_cpu"
  },
  "language_info": {
   "codemirror_mode": {
    "name": "ipython",
    "version": 3
   },
   "file_extension": ".py",
   "mimetype": "text/x-python",
   "name": "python",
   "nbconvert_exporter": "python",
   "pygments_lexer": "ipython3",
   "version": "3.11.7"
  }
 },
 "nbformat": 4,
 "nbformat_minor": 5
}

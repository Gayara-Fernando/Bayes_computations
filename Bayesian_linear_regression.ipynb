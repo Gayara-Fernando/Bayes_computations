{
 "cells": [
  {
   "cell_type": "markdown",
   "id": "24fdde2d-d9b9-4f61-9d89-6906d1ec3a8a",
   "metadata": {},
   "source": [
    "#### Bayesian Linear Regression with Metropolis Hastings"
   ]
  },
  {
   "cell_type": "markdown",
   "id": "6d2b2f0b-d88b-4783-924e-c01d55b6f149",
   "metadata": {},
   "source": [
    "This notebook does linear regression with metropolis hastings from scratch to understand what is going on. We do not use any programing packages to get the parameters of the linear model. We however, will have to see how to get the posterior predictions for this model. As per Gelfand, it is fine to go with the found betas and error variance for the new observations. We follow the article at https://medium.com/@tinonucera/bayesian-linear-regression-from-scratch-a-metropolis-hastings-implementation-63526857f191. For simplicity, we are just considering a single predictor model with unknown error variance to understand what goes under the hood. "
   ]
  },
  {
   "cell_type": "markdown",
   "id": "d618ae19-c4db-4e6a-ad69-aa894a58f805",
   "metadata": {},
   "source": [
    "Let Y and X be a response and a predictor for the model, respectively. The linear regression modedl is given by \n",
    "\n",
    "$Y|X \\sim N (aX + b, \\sigma^2)$\n",
    "\n",
    "Our task is inferring $a$, $b$, and $σ$."
   ]
  },
  {
   "cell_type": "markdown",
   "id": "e544b39f-5363-4da2-aed4-57c282339f31",
   "metadata": {},
   "source": [
    "In this case, let’s generate synthetic data for the regression, using parameters $a=3$, $b=20$ and $σ=5$."
   ]
  },
  {
   "cell_type": "code",
   "execution_count": 1,
   "id": "cc3ec2b7-c93f-488a-ad3c-163ae751dafe",
   "metadata": {},
   "outputs": [],
   "source": [
    "import numpy as np\n",
    "import matplotlib.pyplot as plt\n",
    "import scipy.stats as sc"
   ]
  },
  {
   "cell_type": "code",
   "execution_count": 2,
   "id": "efb8a9d6-f17d-4600-aa20-02ee0edce1cb",
   "metadata": {},
   "outputs": [],
   "source": [
    "# sample x\n",
    "np.random.seed(2024)\n",
    "x = np.random.rand(100)*30"
   ]
  },
  {
   "cell_type": "code",
   "execution_count": 3,
   "id": "36024ab2-1cfb-4e5d-b233-59bac935d0ce",
   "metadata": {},
   "outputs": [
    {
     "data": {
      "text/plain": [
       "(100,)"
      ]
     },
     "execution_count": 3,
     "metadata": {},
     "output_type": "execute_result"
    }
   ],
   "source": [
    "x.shape"
   ]
  },
  {
   "cell_type": "code",
   "execution_count": 4,
   "id": "bd71d740-a08e-49bb-bfe9-b81986e554cd",
   "metadata": {},
   "outputs": [],
   "source": [
    "# set parameters\n",
    "a = 3\n",
    "b = 20\n",
    "sigma = 5"
   ]
  },
  {
   "cell_type": "code",
   "execution_count": 5,
   "id": "d48e7b00-4e67-42e6-9118-96efd0d542cc",
   "metadata": {},
   "outputs": [],
   "source": [
    "# obtain response and add noise\n",
    "y = a*x+b\n",
    "noise = np.random.randn(100)*sigma\n",
    "y = y + noise"
   ]
  },
  {
   "cell_type": "code",
   "execution_count": 6,
   "id": "3fc05a18-384a-4913-8af5-20311d3f60c5",
   "metadata": {},
   "outputs": [],
   "source": [
    "# create a matrix containing the predictor in the first column\n",
    "# and the response in the second\n",
    "data = np.vstack((x,y)).T"
   ]
  },
  {
   "cell_type": "code",
   "execution_count": 7,
   "id": "526d6a89-9827-4846-b73d-e8c6e3ffae61",
   "metadata": {},
   "outputs": [
    {
     "data": {
      "text/plain": [
       "(100, 1)"
      ]
     },
     "execution_count": 7,
     "metadata": {},
     "output_type": "execute_result"
    }
   ],
   "source": [
    "noise.reshape(-1,1).shape"
   ]
  },
  {
   "cell_type": "code",
   "execution_count": 8,
   "id": "8dc62efc-3f29-46b3-b248-d93c9fad9188",
   "metadata": {},
   "outputs": [
    {
     "data": {
      "image/png": "[encoded data removed]",
      "text/plain": [
       "<Figure size 640x480 with 1 Axes>"
      ]
     },
     "metadata": {},
     "output_type": "display_data"
    }
   ],
   "source": [
    "# plot data \n",
    "plt.scatter(data[:,0], data[:,1], color = 'orange')\n",
    "plt.xlabel(\"x\")\n",
    "plt.ylabel(\"y\")\n",
    "plt.show()"
   ]
  },
  {
   "cell_type": "markdown",
   "id": "748c2c93-c937-4897-a6cc-e6c15978b574",
   "metadata": {},
   "source": [
    "Now let's move on to defining the MH part. and looping though iterations."
   ]
  },
  {
   "cell_type": "markdown",
   "id": "0ac20642-2e92-4fe4-91b8-11135bfe84e8",
   "metadata": {},
   "source": [
    "Let θ=[a,b,σ] be the vector of parameters at the previous step of the algorithm and θ’ be a proposal for a new set of parameters, MH compares the Bayes Factor (the product of likelihood and prior) between two competing hypotheses for the parameters (θ’ and θ) and scales this factor by the reciprocal of the conditional proposal distribution. This factor is then compared with the value of a uniformly distributed random variable. This adds stochasticity to the model and makes it possible for unlikely parameter vectors to be explored and for likely ones to be discarded (rarely)."
   ]
  },
  {
   "cell_type": "markdown",
   "id": "9fbef963-6445-4416-b1da-9ad1255234e4",
   "metadata": {},
   "source": [
    "##### Let's define the proposal distribution"
   ]
  },
  {
   "cell_type": "markdown",
   "id": "99269bbd-6f1c-45fa-9172-29520b2ef107",
   "metadata": {},
   "source": [
    "First, we define a proposal distribution g(θ’|θ): this is a distribution for fixed parameters at the previous time step. In our example, a and b can be both positive and negative, therefore a natural choice would be sampling them from a multivariate normal distribution centered at the previous iteration step. As for σ, we can for example sample it from a Gamma distribution. It is really up to the user defining all these distributions."
   ]
  },
  {
   "cell_type": "markdown",
   "id": "5fbfffdb-b95d-463e-b2e9-7f0b1f1a4dc6",
   "metadata": {},
   "source": [
    "As a result, we can define a proposal distribution in the following way:\n",
    "\n",
    "$\\begin{pmatrix}\n",
    "a'\\\\\n",
    "b'\n",
    "\\end{pmatrix} \\sim N \\begin{pmatrix} \\begin{pmatrix}\n",
    "a\\\\\n",
    "b\n",
    "\\end{pmatrix}, \\begin{pmatrix}\n",
    "k^2 & 0\\\\\n",
    "0 & k^2\n",
    "\\end{pmatrix}\n",
    "\\end{pmatrix}$\n",
    "(proposal distribution for a and b)\n",
    "\n",
    "And $\\sigma' \\sim gamma(\\sigma kw, kw)$\n",
    "(proposal distrribution for $\\sigma$)"
   ]
  },
  {
   "cell_type": "markdown",
   "id": "51bd9383-520d-4573-a980-318aecdd6f7d",
   "metadata": {},
   "source": [
    "The parameter k is used to control the “spread” of the distributions around their means. 𝜔 is an extra adjustment for the Gamma. The larger k𝜔, the bigger the spread for the gamma (we are using the shape-rate formulation of the Gamma distribution, be careful as scipy forces us to use the shape-scale formulation instead). "
   ]
  },
  {
   "cell_type": "markdown",
   "id": "d8d28c9b-c099-4000-a5ea-a3985539765e",
   "metadata": {},
   "source": [
    "Define the proposal distribution function as below."
   ]
  },
  {
   "cell_type": "code",
   "execution_count": 9,
   "id": "acbe1ee7-8047-467d-b1fc-75296b099dd2",
   "metadata": {},
   "outputs": [],
   "source": [
    "def proposal(prec_theta, search_width = 0.5):\n",
    "    # this function generates the proposal for the new theta\n",
    "    # we assume that the distribution of the random variables \n",
    "    # is normal for the first two and gamma for the third.\n",
    "    # conditional on the previous value of the accepted parameters (prec_theta)\n",
    "    # search width is the k parameter above\n",
    "    out_theta = np.zeros(3)\n",
    "    out_theta[:2] = sc.multivariate_normal(mean=prec_theta[:2],cov=np.eye(2)*search_width**2).rvs(1)\n",
    "    #the last component is the noise\n",
    "    out_theta[2] = sc.gamma(a=prec_theta[2]*search_width*500, scale=1/(500*search_width)).rvs()\n",
    "    return out_theta"
   ]
  },
  {
   "cell_type": "markdown",
   "id": "280b6216-c482-4871-9ddb-32b8ef529f78",
   "metadata": {},
   "source": [
    "You can notice how the function proposal contains two arguments: prec_theta represents the parameter vector at the previous step and search_width represents the region where we will be looking for proposals. Looking for a good set of parameters introduces a trade-off between exploration (the search for new parameters set in unexplored areas) and exploitation (refining the search closer to the areas where good sets of parameters have been found). As a result, search_width should be handled with extreme care. A large value of search_widthwill prevent the MCMC from converging to a stationary distribution. A small value may prevent the algorithm from finding the optimum (optima) in a reasonable amount of time (more samples will need to be drawn and longer burn-in period would be expected)."
   ]
  },
  {
   "cell_type": "markdown",
   "id": "e386f8eb-edc2-4e15-93f6-38274f2da36e",
   "metadata": {},
   "source": [
    "##### Likelihood function"
   ]
  },
  {
   "cell_type": "code",
   "execution_count": 10,
   "id": "1b86515d-4b99-4653-9736-555b419aed70",
   "metadata": {},
   "outputs": [],
   "source": [
    "def lhd(x,theta):\n",
    "    # x is the data matrix, first column for input and second column for output.\n",
    "    # theta is a vector containing the parameters for the evaluation\n",
    "    # remember theta[0] is a, theta[1] is b and theta[2] is sigma\n",
    "    xs = x[:,0]\n",
    "    ys = x[:,1]\n",
    "    lhd_out = sc.norm.logpdf(ys, loc=theta[0]*xs+theta[1], scale=theta[2])\n",
    "    # then we sum lhd_out (be careful here, we are summing instead of multiplying\n",
    "    # because we are dealing with the log-likelihood, instead of the raw likelihood).\n",
    "    lhd_out = np.sum(lhd_out)\n",
    "    return lhd_out"
   ]
  },
  {
   "cell_type": "markdown",
   "id": "0767efd3-2cc6-48a5-9561-e963a1bdea82",
   "metadata": {},
   "source": [
    "##### Prioir"
   ]
  },
  {
   "cell_type": "markdown",
   "id": "6315b6bf-2765-441f-84af-27c066e1ce57",
   "metadata": {},
   "source": [
    "We do not need to spend a lot of words on this. We can really choose anything we like in term of distribution for the prior. All we need to do is to make sure that the zone where the inferred-to-be parameters are likely to be found have non-zero prior, and that the noise parameter σ is non-negative. Again, the prior is expressed in terms of a log-pdf."
   ]
  },
  {
   "cell_type": "code",
   "execution_count": 11,
   "id": "b49586d5-616b-4fa1-83c0-9c963cf47e11",
   "metadata": {},
   "outputs": [],
   "source": [
    "def prior(theta):\n",
    "    # evaluate the prior for the parameters on a multivariate gaussian. \n",
    "    prior_out = sc.multivariate_normal.logpdf(theta[:2],mean=np.array([0,0]), cov=np.eye(2)*100)\n",
    "    # this needs to be summed to the prior for the sigma, since I assumed independence.\n",
    "    prior_out += sc.gamma.logpdf(theta[2], a=1, scale=1)\n",
    "    return prior_out"
   ]
  },
  {
   "cell_type": "markdown",
   "id": "76676293-65b1-40d6-b596-37b388f59b1e",
   "metadata": {},
   "source": [
    "Proporsal ratio"
   ]
  },
  {
   "cell_type": "markdown",
   "id": "836c9824-b974-4799-8675-f9d83586ea1b",
   "metadata": {},
   "source": [
    "The proposal ratio is the likelihood of observing the old parameter vector given the new one divided by the probability of observing the new parameter vector given the old one. That is, g(θ|θ’)/g(θ’|θ). Again, we will employ the log-pdf so as to have uniformity of scales across probabilities and to achieve better numerical stability."
   ]
  },
  {
   "cell_type": "code",
   "execution_count": 12,
   "id": "2e2e9495-3eb5-4006-a25e-97bf816b92e5",
   "metadata": {},
   "outputs": [],
   "source": [
    "def proposal_ratio(theta_old, theta_new, search_width=10):\n",
    "    # this is the proposal distribution ratio\n",
    "    # first, we calculate of the pdf of the proposal distribution at the old value of theta with respect to the new \n",
    "    # value of theta. And then we do the exact opposite.\n",
    "    prop_ratio_out = sc.multivariate_normal.logpdf(theta_old[:2],mean=theta_new[:2], cov=np.eye(2)*search_width**2)\n",
    "    prop_ratio_out += sc.gamma.logpdf(theta_old[2], a=theta_new[2]*search_width*500, scale=1/(500*search_width))\n",
    "    prop_ratio_out -= sc.multivariate_normal.logpdf(theta_new[:2],mean=theta_old[:2], cov=np.eye(2)*search_width**2)\n",
    "    prop_ratio_out -= sc.gamma.logpdf(theta_new[2], a=theta_old[2]*search_width*500, scale=1/(500*search_width))\n",
    "    return prop_ratio_out"
   ]
  },
  {
   "cell_type": "markdown",
   "id": "fbe2b4c7-4d23-4d4c-b756-fe14f884ec4b",
   "metadata": {},
   "source": [
    "Algorithm"
   ]
  },
  {
   "cell_type": "code",
   "execution_count": 13,
   "id": "301d88e6-167a-4faf-8bbd-6d3efc87a257",
   "metadata": {},
   "outputs": [],
   "source": [
    "# 1) Instantiate initial values for the parameter vector\n",
    "\n",
    "# ... N TIMES or UNTIL CONVERGENCE\n",
    "# 2) Draw a new parameter vector from the proposal\n",
    "# 3) Calculate likelihood, prior pdf value and the reciprocal of the proposal likelihood ratio\n",
    "# 4) Multiply all the quantities in 3 (or sum if in log) and compare this ratio (in linear scale)\n",
    "     # against a number drawn from a uniform distribution. \n",
    "# 5) If the ratio is larger, the new parameter vector is accepted.\n",
    "     # Otherwise, the new parameter vector is rejected.\n",
    "# 6) Move to 2)"
   ]
  },
  {
   "cell_type": "code",
   "execution_count": 18,
   "id": "ed3427c7-8a4b-4211-8266-1db9021aea1b",
   "metadata": {},
   "outputs": [
    {
     "name": "stderr",
     "output_type": "stream",
     "text": [
      "<timed exec>:34: RuntimeWarning: overflow encountered in exp\n"
     ]
    },
    {
     "name": "stdout",
     "output_type": "stream",
     "text": [
      "CPU times: user 3min 45s, sys: 48.8 ms, total: 3min 45s\n",
      "Wall time: 3min 46s\n"
     ]
    }
   ],
   "source": [
    "%%time\n",
    "np.random.seed(100)\n",
    "width = 0.2\n",
    "\n",
    "thetas = np.random.rand(3).reshape(1,-1)\n",
    "accepted = 0\n",
    "rejected = 0\n",
    "\n",
    "N = 100000\n",
    "\n",
    "for i in range(N):\n",
    "\n",
    "    # 1) provide a proposal for theta\n",
    "    theta_new = proposal(thetas[-1,:], search_width=width)\n",
    "    \n",
    "    # 2) calculate the likelihood of this proposal and the likelihood\n",
    "    # for the old value of theta\n",
    "    log_lik_theta_new = lhd(data,theta_new)\n",
    "    log_lik_theta = lhd(data,thetas[-1,:])\n",
    "    \n",
    "    # 3) evaluate the prior log-pdf at the current and at the old value of theta\n",
    "    theta_new_prior = prior(theta_new)\n",
    "    theta_prior = prior(thetas[-1,:])\n",
    "    \n",
    "    # 4) finally, we need the proposal distribution ratio\n",
    "    prop_ratio = proposal_ratio(thetas[-1], theta_new, search_width=width)\n",
    "    \n",
    "    # 5) assemble likelihood, priors and proposal distributions\n",
    "    likelihood_prior_proposal_ratio = log_lik_theta_new - log_lik_theta + \\\n",
    "                             theta_new_prior - theta_prior + prop_ratio\n",
    "    \n",
    "    # 6) throw a - possibly infinitely weigthed - coin. The move for Metropolis-Hastings is\n",
    "    # not deterministic. Here, we exponentiate the likelihood_prior_proposal ratio in order\n",
    "    # to obtain the probability in linear scale\n",
    "    if np.exp(likelihood_prior_proposal_ratio) > sc.uniform().rvs():\n",
    "        thetas = np.vstack((thetas,theta_new))\n",
    "        accepted += 1\n",
    "    else:\n",
    "        rejected += 1"
   ]
  },
  {
   "cell_type": "code",
   "execution_count": 19,
   "id": "6ae28e76-39a5-44ee-83c6-e8a271f98d84",
   "metadata": {},
   "outputs": [
    {
     "data": {
      "text/plain": [
       "(15958, 3)"
      ]
     },
     "execution_count": 19,
     "metadata": {},
     "output_type": "execute_result"
    }
   ],
   "source": [
    "thetas.shape"
   ]
  },
  {
   "cell_type": "code",
   "execution_count": 20,
   "id": "2826a251-a055-4b44-8f36-6f5850393d2b",
   "metadata": {},
   "outputs": [
    {
     "data": {
      "text/plain": [
       "15957"
      ]
     },
     "execution_count": 20,
     "metadata": {},
     "output_type": "execute_result"
    }
   ],
   "source": [
    "# see if the shape[0] - 1 agrees with the number of accepted proposal/current likelihood ratio.\n",
    "accepted"
   ]
  },
  {
   "cell_type": "markdown",
   "id": "69e53836-dca2-41af-9686-46d739165e5f",
   "metadata": {},
   "source": [
    "plot the posterior distributions fo the parameters and observe the curves to see how they look like? We are currently not considering a burn-in period, but ideally we should."
   ]
  },
  {
   "cell_type": "code",
   "execution_count": 21,
   "id": "92c9b414-8375-406c-b5b7-7e3ab1f5ff26",
   "metadata": {},
   "outputs": [],
   "source": [
    "a = thetas[:,0]\n",
    "b = thetas[:,1]\n",
    "sigma = thetas[:,2]"
   ]
  },
  {
   "cell_type": "code",
   "execution_count": 27,
   "id": "6f30089a-e55d-4624-8d7a-5e3f8a7a2314",
   "metadata": {},
   "outputs": [
    {
     "data": {
      "text/plain": [
       "(15958,)"
      ]
     },
     "execution_count": 27,
     "metadata": {},
     "output_type": "execute_result"
    }
   ],
   "source": [
    "a.shape\n"
   ]
  },
  {
   "cell_type": "code",
   "execution_count": 38,
   "id": "7be46284-89e2-49e0-8ac8-3b00f1c2e5a0",
   "metadata": {},
   "outputs": [
    {
     "data": {
      "image/png": "[encoded data removed]",
      "text/plain": [
       "<Figure size 640x480 with 1 Axes>"
      ]
     },
     "metadata": {},
     "output_type": "display_data"
    }
   ],
   "source": [
    "# Plotting the posterior distribution\n",
    "plt.hist(a, density=True, bins = 100, alpha=0.6)\n",
    "plt.title('Posterior samples for a')\n",
    "plt.xlim(2.5, 3.5)\n",
    "plt.xlabel('$a$')\n",
    "plt.ylabel('Density')\n",
    "plt.show()"
   ]
  },
  {
   "cell_type": "code",
   "execution_count": 40,
   "id": "c6b0c71d-ebe6-471b-85b6-055cc417e32f",
   "metadata": {},
   "outputs": [
    {
     "data": {
      "image/png": "[encoded data removed]",
      "text/plain": [
       "<Figure size 640x480 with 1 Axes>"
      ]
     },
     "metadata": {},
     "output_type": "display_data"
    }
   ],
   "source": [
    "# Plotting the posterior distribution\n",
    "plt.hist(b, density=True ,bins = 100, alpha=0.6)\n",
    "plt.title('Posterior samples for b')\n",
    "plt.xlim(15, 25)\n",
    "plt.xlabel('$b$')\n",
    "plt.ylabel('Density')\n",
    "plt.show()"
   ]
  },
  {
   "cell_type": "code",
   "execution_count": 42,
   "id": "0dcede07-a6ee-4314-9040-ec10fc541a36",
   "metadata": {},
   "outputs": [
    {
     "data": {
      "image/png": "[encoded data removed]",
      "text/plain": [
       "<Figure size 640x480 with 1 Axes>"
      ]
     },
     "metadata": {},
     "output_type": "display_data"
    }
   ],
   "source": [
    "# Plotting the posterior distribution\n",
    "plt.hist(sigma, bins=100, density=True , alpha=0.6)\n",
    "plt.title('Posterior samples for sigma')\n",
    "plt.xlim(3,7)\n",
    "plt.xlabel('$\\\\sigma$')\n",
    "plt.ylabel('Density')\n",
    "plt.show()"
   ]
  }
 ],
 "metadata": {
  "kernelspec": {
   "display_name": "Python (tfp_env_TN_CPU)",
   "language": "python",
   "name": "tfp_env_tn_cpu"
  },
  "language_info": {
   "codemirror_mode": {
    "name": "ipython",
    "version": 3
   },
   "file_extension": ".py",
   "mimetype": "text/x-python",
   "name": "python",
   "nbconvert_exporter": "python",
   "pygments_lexer": "ipython3",
   "version": "3.11.7"
  }
 },
 "nbformat": 4,
 "nbformat_minor": 5
}

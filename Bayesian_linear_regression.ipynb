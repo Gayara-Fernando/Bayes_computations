{
 "cells": [
  {
   "cell_type": "markdown",
   "id": "6d2b2f0b-d88b-4783-924e-c01d55b6f149",
   "metadata": {},
   "source": [
    "This notebook does linear regression with metropolis hastings from scratch to understand what is going on. We do not use any programing packages to get the parameters of the linear model. We however, will have to see how to get the posterior predictions for this model. As per Gelfand, it is fine to go with the found betas and error variance for the new observations. We follow the article at https://medium.com/@tinonucera/bayesian-linear-regression-from-scratch-a-metropolis-hastings-implementation-63526857f191. For simplicity, we are just considering a single predictor model with unknown error variance to understand what goes under the hood. "
   ]
  },
  {
   "cell_type": "markdown",
   "id": "d618ae19-c4db-4e6a-ad69-aa894a58f805",
   "metadata": {},
   "source": [
    "Let Y and X be a response and a predictor for the model, respectively. The linear regression modedl is given by \n",
    "\n",
    "$Y|X \\sim N (aX + b, \\sigma^2)$\n",
    "\n",
    "Our task is inferring $a$, $b$, and $σ$."
   ]
  },
  {
   "cell_type": "markdown",
   "id": "e544b39f-5363-4da2-aed4-57c282339f31",
   "metadata": {},
   "source": [
    "In this case, let’s generate synthetic data for the regression, using parameters $a=3$, $b=20$ and $σ=5$."
   ]
  },
  {
   "cell_type": "code",
   "execution_count": 2,
   "id": "cc3ec2b7-c93f-488a-ad3c-163ae751dafe",
   "metadata": {},
   "outputs": [],
   "source": [
    "import numpy as np\n",
    "import matplotlib.pyplot as plt\n",
    "import scipy.stats as sc"
   ]
  },
  {
   "cell_type": "code",
   "execution_count": null,
   "id": "efb8a9d6-f17d-4600-aa20-02ee0edce1cb",
   "metadata": {},
   "outputs": [],
   "source": []
  },
  {
   "cell_type": "code",
   "execution_count": null,
   "id": "36024ab2-1cfb-4e5d-b233-59bac935d0ce",
   "metadata": {},
   "outputs": [],
   "source": []
  }
 ],
 "metadata": {
  "kernelspec": {
   "display_name": "Python (tfp_env_TN_CPU)",
   "language": "python",
   "name": "tfp_env_tn_cpu"
  },
  "language_info": {
   "codemirror_mode": {
    "name": "ipython",
    "version": 3
   },
   "file_extension": ".py",
   "mimetype": "text/x-python",
   "name": "python",
   "nbconvert_exporter": "python",
   "pygments_lexer": "ipython3",
   "version": "3.11.7"
  }
 },
 "nbformat": 4,
 "nbformat_minor": 5
}

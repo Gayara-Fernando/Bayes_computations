{
 "cells": [
  {
   "cell_type": "code",
   "execution_count": 1,
   "id": "f3c50318-ad11-431a-b6af-b018e76ed79a",
   "metadata": {},
   "outputs": [],
   "source": [
    "import numpy as np"
   ]
  },
  {
   "cell_type": "code",
   "execution_count": 2,
   "id": "911a2d1a-4201-41d2-8819-f43276b471d2",
   "metadata": {},
   "outputs": [],
   "source": [
    "# Generate synthetic data\n",
    "np.random.seed(123)\n",
    "n_samples = 100\n",
    "x1 = np.random.randn(n_samples)\n",
    "x2 = np.random.randn(n_samples)\n",
    "true_beta0 = 1.5\n",
    "true_beta1 = 2.0\n",
    "true_beta2 = -1.0\n",
    "rho_true = 0.8\n",
    "sigma_true = 0.5\n",
    "sigma_ar_true = 0.4"
   ]
  },
  {
   "cell_type": "code",
   "execution_count": 3,
   "id": "082be3ce-e5ee-46ab-81f9-260cf855000a",
   "metadata": {},
   "outputs": [],
   "source": [
    "# Latent AR(1) process\n",
    "e = np.zeros(n_samples)\n",
    "for t in range(1, n_samples):\n",
    "    e[t] = rho_true * e[t-1] + np.random.normal(0, sigma_ar_true)"
   ]
  },
  {
   "cell_type": "code",
   "execution_count": 4,
   "id": "c7ac6ecd-cacd-4221-91c8-d75573db8e29",
   "metadata": {},
   "outputs": [],
   "source": [
    "# Linear model with AR(1) errors\n",
    "y = true_beta0 + true_beta1 * x1 + true_beta2 * x2 + e + np.random.normal(0, sigma_true, size=n_samples)\n"
   ]
  },
  {
   "cell_type": "code",
   "execution_count": 5,
   "id": "62acfb4c-fbd5-417d-9c71-90de58bef438",
   "metadata": {},
   "outputs": [
    {
     "data": {
      "text/plain": [
       "((100,), (100,))"
      ]
     },
     "execution_count": 5,
     "metadata": {},
     "output_type": "execute_result"
    }
   ],
   "source": [
    "x1.shape, x2.shape"
   ]
  },
  {
   "cell_type": "code",
   "execution_count": 6,
   "id": "983d520a-9de4-4dfa-a6eb-e2987551d277",
   "metadata": {},
   "outputs": [],
   "source": [
    "# Define the log-posterior function\n",
    "def log_posterior(beta0, beta1, beta2, rho, sigma, sigma_ar):\n",
    "    # Log-prior for beta coefficients\n",
    "    log_prior = (-0.5 * (beta0**2 + beta1**2 + beta2**2) / 10**2)  # Normal prior\n",
    "    \n",
    "    # Log-prior for AR(1) coefficient\n",
    "    if not (-1 < rho < 1):\n",
    "        return -np.inf  # Reject if out of bounds\n",
    "    log_prior += 0  # Uniform prior for rho\n",
    "\n",
    "    # Log-prior for sigma and sigma_ar\n",
    "    if sigma <= 0 or sigma_ar <= 0:\n",
    "        return -np.inf  # Reject if not positive\n",
    "    log_prior += np.log(1 / (sigma * 5)) # Half-normal prior for sigma\n",
    "    log_prior += np.log(1 / (sigma_ar * 5))  # Half-normal prior for sigma_ar\n",
    "    \n",
    "    # Calculate the log-likelihood\n",
    "    mu = beta0 + beta1 * x1 + beta2 * x2\n",
    "    likelihood = 0\n",
    "    for t in range(n_samples):\n",
    "        # Latent AR(1) error\n",
    "        if t == 0:\n",
    "            e_t = 0  # Start with zero for the first value\n",
    "        else:\n",
    "            e_t = rho * e[t-1] + np.random.normal(0, sigma_ar)\n",
    "        mu_t = mu[t] + e_t\n",
    "        likelihood += -0.5 * np.log(2 * np.pi * sigma**2) - (y[t] - mu_t)**2 / (2 * sigma**2)\n",
    "\n",
    "    return log_prior + likelihood"
   ]
  },
  {
   "cell_type": "code",
   "execution_count": 7,
   "id": "8a792a6d-d3ad-449b-94b5-b1bdc0d8c4ff",
   "metadata": {},
   "outputs": [],
   "source": [
    "# NUTS sampling\n",
    "def nuts(initial_params, no_of_samples, step_size=0.1):\n",
    "    samples = []\n",
    "    current_params = np.array(initial_params)\n",
    "    \n",
    "    for _ in range(no_of_samples):\n",
    "        # Sample the new parameters using NUTS\n",
    "        new_params = current_params + np.random.normal(0, step_size, size=len(current_params))\n",
    "        current_log_posterior = log_posterior(*current_params)\n",
    "        new_log_posterior = log_posterior(*new_params)\n",
    "\n",
    "        # Accept or reject the new parameters based on the acceptance criterion\n",
    "        if np.random.uniform(0, 1) < np.exp(new_log_posterior - current_log_posterior):\n",
    "            current_params = new_params  # Accept the new parameters\n",
    "        \n",
    "        samples.append(current_params)\n",
    "\n",
    "    return np.array(samples)\n"
   ]
  },
  {
   "cell_type": "code",
   "execution_count": 8,
   "id": "2f2ddc09-ba44-4927-b7e2-66514b007d9f",
   "metadata": {},
   "outputs": [
    {
     "name": "stdout",
     "output_type": "stream",
     "text": [
      "CPU times: user 3 µs, sys: 3 µs, total: 6 µs\n",
      "Wall time: 11.4 µs\n"
     ]
    }
   ],
   "source": [
    "%%time\n",
    "# Initial parameters for sampling\n",
    "initial_params = [0.0, 0.0, 0.0, 0.0, 1.0, 1.0]  # beta0, beta1, beta2, rho, sigma, sigma_ar\n",
    "no_of_samples = 20000"
   ]
  },
  {
   "cell_type": "code",
   "execution_count": 9,
   "id": "0edb065c-8cdc-4d83-8a64-f5de37a40a79",
   "metadata": {
    "scrolled": true
   },
   "outputs": [],
   "source": [
    "# Run the NUTS sampler\n",
    "samples = nuts(initial_params, no_of_samples)"
   ]
  },
  {
   "cell_type": "code",
   "execution_count": 10,
   "id": "04826dec-7fe2-40cf-8562-c331c2402044",
   "metadata": {},
   "outputs": [
    {
     "name": "stdout",
     "output_type": "stream",
     "text": [
      "Sampled Coefficients:\n",
      "Beta0: 1.390540495067725\n",
      "Beta1: 1.9644589141651627\n",
      "Beta2: -0.9367205899211698\n",
      "Rho: 0.8579927299591774\n",
      "Sigma: 0.6776163470764631\n",
      "Sigma AR: 0.02006163111147225\n"
     ]
    }
   ],
   "source": [
    "# Print the summary of the samples\n",
    "print(\"Sampled Coefficients:\")\n",
    "print(\"Beta0:\", np.mean(samples[:, 0]))\n",
    "print(\"Beta1:\", np.mean(samples[:, 1]))\n",
    "print(\"Beta2:\", np.mean(samples[:, 2]))\n",
    "print(\"Rho:\", np.mean(samples[:, 3]))\n",
    "print(\"Sigma:\", np.mean(samples[:, 4]))\n",
    "print(\"Sigma AR:\", np.mean(samples[:, 5]))\n"
   ]
  },
  {
   "cell_type": "code",
   "execution_count": null,
   "id": "ff8fd423-a370-41f1-830e-5693ff33e824",
   "metadata": {},
   "outputs": [],
   "source": []
  }
 ],
 "metadata": {
  "kernelspec": {
   "display_name": "Python (tf_with_py38_gpu_29)",
   "language": "python",
   "name": "tf_with_py38_gpu_29"
  },
  "language_info": {
   "codemirror_mode": {
    "name": "ipython",
    "version": 3
   },
   "file_extension": ".py",
   "mimetype": "text/x-python",
   "name": "python",
   "nbconvert_exporter": "python",
   "pygments_lexer": "ipython3",
   "version": "3.8.13"
  }
 },
 "nbformat": 4,
 "nbformat_minor": 5
}

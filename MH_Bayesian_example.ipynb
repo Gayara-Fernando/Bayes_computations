{
 "cells": [
  {
   "cell_type": "markdown",
   "id": "1b2aabb1-8563-4c73-abfa-5642e8882d1b",
   "metadata": {},
   "source": [
    "##### Metroplis Hastings Bayesian example"
   ]
  },
  {
   "cell_type": "markdown",
   "id": "9df169b6-0042-45fd-a89e-d58488f2cb73",
   "metadata": {},
   "source": [
    "This notebook gives an example of using Metropolis Hastings algorithm to get posterior distribution of parameters in a Bayesian setting. The MH algorithm allows you to sample from a posterior distribution even when it's hard to compute directly. For this, let's assume a basic model where you are trying to estimate the mean $𝜇$ of a normal distribution with known variance $\\sigma^2$\n",
    " , given some observed data $ X = {{x_1, x_2, . . . , x_n}}$. The prior for 𝜇 will be a normal distribution $\\mu \\sim N(\\mu_0, \\tau^2)$.\n",
    "\n"
   ]
  },
  {
   "cell_type": "markdown",
   "id": "e07fc5e4-3535-473f-ab9e-7a6b6b38e0d4",
   "metadata": {},
   "source": [
    "Problem set up\n",
    "\n",
    "Likelihood: $X_i|\\mu \\sim N(\\mu, \\sigma^2)$\n",
    "\n",
    "Prior: $\\mu \\sim N(\\mu_0, \\tau^2)$\n",
    "\n",
    "Goal: Estimate the posterior distribution of 𝜇"
   ]
  },
  {
   "cell_type": "code",
   "execution_count": 1,
   "id": "32127a1f-cae6-48d2-836e-192cf6cf8f85",
   "metadata": {},
   "outputs": [],
   "source": [
    "import numpy as np\n",
    "import pandas as pd\n",
    "import matplotlib.pyplot as plt\n",
    "from plotly import graph_objs as go\n",
    "from scipy.stats import gaussian_kde"
   ]
  },
  {
   "cell_type": "code",
   "execution_count": 2,
   "id": "061d7338-6ffb-45ba-acf9-0f6fba883562",
   "metadata": {},
   "outputs": [
    {
     "data": {
      "text/plain": [
       "(100,)"
      ]
     },
     "execution_count": 2,
     "metadata": {},
     "output_type": "execute_result"
    }
   ],
   "source": [
    "# Generate some synthetic data\n",
    "np.random.seed(42)\n",
    "n_samples = 100\n",
    "true_mu = 5.0\n",
    "sigma = 2.0\n",
    "data = np.random.normal(true_mu, sigma, n_samples)\n",
    "data.shape"
   ]
  },
  {
   "cell_type": "code",
   "execution_count": 3,
   "id": "5e0832c6-c948-4f38-aed4-0578d67ade27",
   "metadata": {},
   "outputs": [],
   "source": [
    "# Prior parameters\n",
    "mu_0 = 0   # prior mean\n",
    "tau = 10   # prior variance"
   ]
  },
  {
   "cell_type": "code",
   "execution_count": 4,
   "id": "52a4ade6-dc4e-4c99-9983-b4fbe85c84fc",
   "metadata": {},
   "outputs": [],
   "source": [
    "# Proposal distribution standard deviation\n",
    "proposal_std = 1.0"
   ]
  },
  {
   "cell_type": "code",
   "execution_count": 5,
   "id": "75533a3c-c6a1-4dd1-8e69-92187bf8fb25",
   "metadata": {},
   "outputs": [],
   "source": [
    "# Define the likelihood function (log-likelihood for numerical stability)\n",
    "def log_likelihood(mu, data, sigma):\n",
    "    return -0.5 * np.sum((data - mu)**2) / sigma**2"
   ]
  },
  {
   "cell_type": "code",
   "execution_count": 6,
   "id": "c42587fd-af82-488e-a678-ebb0db41bccd",
   "metadata": {},
   "outputs": [],
   "source": [
    "# Define the prior distribution (log-prior)\n",
    "def log_prior(mu, mu_0, tau):\n",
    "    return -0.5 * (mu - mu_0)**2 / tau**2"
   ]
  },
  {
   "cell_type": "code",
   "execution_count": 7,
   "id": "2d195807-977c-4b48-bb93-8abe6fef4938",
   "metadata": {},
   "outputs": [],
   "source": [
    "# Metropolis-Hastings sampler\n",
    "def metropolis_hastings(data, sigma, mu_0, tau, proposal_std, n_iters=10000):\n",
    "    # Initialize the chain\n",
    "    mu_current = np.mean(data)  # Starting point for the chain\n",
    "    chain = [mu_current]\n",
    "    \n",
    "    for i in range(n_iters):\n",
    "        # Propose a new value for mu\n",
    "        mu_proposal = np.random.normal(mu_current, proposal_std)\n",
    "        \n",
    "        # Calculate the log of acceptance ratio\n",
    "        log_posterior_current = log_likelihood(mu_current, data, sigma) + log_prior(mu_current, mu_0, tau)\n",
    "        log_posterior_proposal = log_likelihood(mu_proposal, data, sigma) + log_prior(mu_proposal, mu_0, tau)\n",
    "        acceptance_ratio = np.exp(log_posterior_proposal - log_posterior_current)\n",
    "        \n",
    "        # Accept or reject the proposal\n",
    "        if np.random.rand() < acceptance_ratio:\n",
    "            mu_current = mu_proposal  # Accept the proposal\n",
    "        \n",
    "        # Add the current mu to the chain\n",
    "        chain.append(mu_current)\n",
    "    \n",
    "    return np.array(chain)"
   ]
  },
  {
   "cell_type": "code",
   "execution_count": 8,
   "id": "cddc9caf-ff71-4cef-869c-2df074acf36d",
   "metadata": {},
   "outputs": [],
   "source": [
    "# Run the Metropolis-Hastings sampler\n",
    "chain_out = metropolis_hastings(data, sigma, mu_0, tau, proposal_std, n_iters=5000)"
   ]
  },
  {
   "cell_type": "code",
   "execution_count": 9,
   "id": "7a07ca05-9e5d-4eb5-998e-16ad3ac9b6fc",
   "metadata": {},
   "outputs": [],
   "source": [
    "# Burn-in and thinning\n",
    "burn_in = 1000\n",
    "chain_burned_in = chain_out[burn_in:]"
   ]
  },
  {
   "cell_type": "code",
   "execution_count": 10,
   "id": "74951498-dea1-4c56-acc6-8a884cf1a8f4",
   "metadata": {},
   "outputs": [
    {
     "data": {
      "image/png": "[encoded data removed]",
      "text/plain": [
       "<Figure size 640x480 with 1 Axes>"
      ]
     },
     "metadata": {},
     "output_type": "display_data"
    }
   ],
   "source": [
    "# Plotting the posterior distribution\n",
    "plt.hist(chain_burned_in, bins=30, density=True, label='Posterior samples', alpha=0.6)\n",
    "plt.axvline(true_mu, color='red', linestyle='--', label='True mean')\n",
    "plt.title('Posterior distribution of $\\\\mu$')\n",
    "plt.xlabel('$\\\\mu$')\n",
    "plt.ylabel('Density')\n",
    "plt.legend()\n",
    "plt.show()"
   ]
  },
  {
   "cell_type": "markdown",
   "id": "590e8bfe-7d15-4aa8-ab3d-80e477cd80d7",
   "metadata": {},
   "source": [
    "Another example : https://exowanderer.medium.com/metropolis-hastings-mcmc-from-scratch-in-python-c21e53c485b7"
   ]
  },
  {
   "cell_type": "markdown",
   "id": "7de1475d-825e-46b0-97f9-34f834e183b7",
   "metadata": {},
   "source": [
    "The below example assumes the true distribution of the data is N(0,1),and the prior is similar. The earlier one makes more sense though."
   ]
  },
  {
   "cell_type": "code",
   "execution_count": 11,
   "id": "3d895248-3af2-467b-99af-87d7530db070",
   "metadata": {},
   "outputs": [],
   "source": [
    "def mcmc_updater(curr_state, curr_likeli, \n",
    "      likelihood, proposal_distribution):\n",
    "    \"\"\" Propose a new state and compare the likelihoods\n",
    "    \n",
    "    Given the current state (initially random), \n",
    "      current likelihood, the likelihood function, and \n",
    "      the transition (proposal) distribution, `mcmc_updater` generates \n",
    "      a new proposal, evaluate its likelihood, compares that to the current \n",
    "      likelihood with a uniformly samples threshold, \n",
    "    then it returns new or current state in the MCMC chain.\n",
    "\n",
    "    Args:\n",
    "        curr_state (float): the current parameter/state value\n",
    "        curr_likeli (float): the current likelihood estimate\n",
    "        likelihood (function): a function handle to compute the likelihood\n",
    "        proposal_distribution (function): a function handle to compute the \n",
    "          next proposal state\n",
    "\n",
    "    Returns:\n",
    "        (tuple): either the current state or the new state\n",
    "          and its corresponding likelihood\n",
    "    \"\"\"\n",
    "    # Generate a proposal state using the proposal distribution\n",
    "    # Proposal state == new guess state to be compared to current\n",
    "    proposal_state = proposal_distribution(curr_state)\n",
    "\n",
    "    # Calculate the acceptance criterion\n",
    "    prop_likeli = likelihood(proposal_state)\n",
    "    accept_crit = prop_likeli / curr_likeli\n",
    "\n",
    "    # Generate a random number between 0 and 1\n",
    "    accept_threshold = np.random.uniform(0, 1)\n",
    "\n",
    "    # If the acceptance criterion is greater than the random number,\n",
    "    # accept the proposal state as the current state\n",
    "    if accept_crit > accept_threshold:\n",
    "        return proposal_state, prop_likeli\n",
    "\n",
    "    # Else\n",
    "    return curr_state, curr_likeli"
   ]
  },
  {
   "cell_type": "code",
   "execution_count": 12,
   "id": "b3549cbf-1a4f-483a-8f43-a5fe0b2089ac",
   "metadata": {},
   "outputs": [],
   "source": [
    "def metropolis_hastings(\n",
    "        likelihood, proposal_distribution, initial_state, \n",
    "        num_samples, stepsize=0.5, burnin=0.2):\n",
    "    \"\"\" Compute the Markov Chain Monte Carlo\n",
    "\n",
    "    Args:\n",
    "        likelihood (function): a function handle to compute the likelihood\n",
    "        proposal_distribution (function): a function handle to compute the \n",
    "          next proposal state\n",
    "        initial_state (list): The initial conditions to start the chain\n",
    "        num_samples (integer): The number of samples to compte, \n",
    "          or length of the chain\n",
    "        burnin (float): a float value from 0 to 1.\n",
    "          The percentage of chain considered to be the burnin length\n",
    "\n",
    "    Returns:\n",
    "        samples (list): The Markov Chain,\n",
    "          samples from the posterior distribution\n",
    "    \"\"\"\n",
    "    samples = []\n",
    "\n",
    "    # The number of samples in the burn in phase\n",
    "    idx_burnin = int(burnin * num_samples)\n",
    "\n",
    "    # Set the current state to the initial state\n",
    "    curr_state = initial_state\n",
    "    curr_likeli = likelihood(curr_state)\n",
    "\n",
    "    for i in range(num_samples):\n",
    "        # The proposal distribution sampling and comparison\n",
    "        #   occur within the mcmc_updater routine\n",
    "        curr_state, curr_likeli = mcmc_updater(\n",
    "            curr_state=curr_state,\n",
    "            curr_likeli=curr_likeli,\n",
    "            likelihood=likelihood,\n",
    "            proposal_distribution=proposal_distribution\n",
    "        )\n",
    "\n",
    "        # Append the current state to the list of samples\n",
    "        if i >= idx_burnin:\n",
    "            # Only append after the burnin to avoid including\n",
    "            #   parts of the chain that are prior-dominated\n",
    "            samples.append(curr_state)\n",
    "\n",
    "    return samples"
   ]
  },
  {
   "cell_type": "code",
   "execution_count": 13,
   "id": "63a86496-8665-4944-9089-871e79df881a",
   "metadata": {},
   "outputs": [],
   "source": [
    "def likelihood(x):\n",
    "    # Standard Normal Distribution\n",
    "    # An underlying assumption of linear regression is that the residuals\n",
    "    # are Gaussian Normal Distributed; often, Standard Normal distributed\n",
    "    return np.exp(-x**2 / 2) / np.sqrt(2 * np.pi)"
   ]
  },
  {
   "cell_type": "code",
   "execution_count": 14,
   "id": "03bcc190-2689-4af2-ac1b-d5ad07414ab8",
   "metadata": {},
   "outputs": [],
   "source": [
    "def proposal_distribution(x, stepsize=0.5):\n",
    "    # Select the proposed state (new guess) from a Gaussian distribution\n",
    "    #  centered at the current state, within a Guassian of width `stepsize`\n",
    "    return np.random.normal(x, stepsize)"
   ]
  },
  {
   "cell_type": "code",
   "execution_count": 15,
   "id": "f367329c-0c5b-428a-865f-a6ed3f3ab8bb",
   "metadata": {},
   "outputs": [],
   "source": [
    "np.random.seed(42)\n",
    "\n",
    "initial_state = 0  # Trivial case, starting at the mode of the likelihood\n",
    "num_samples = int(1e4)\n",
    "burnin = 0.2\n",
    "\n",
    "samples = metropolis_hastings(\n",
    "    likelihood,\n",
    "    proposal_distribution,\n",
    "    initial_state,\n",
    "    num_samples,\n",
    "    burnin=burnin\n",
    ")"
   ]
  },
  {
   "cell_type": "code",
   "execution_count": 16,
   "id": "affb3d0f-6b54-4f00-b46b-2da17cb02666",
   "metadata": {},
   "outputs": [
    {
     "data": {
      "text/plain": [
       "8000"
      ]
     },
     "execution_count": 16,
     "metadata": {},
     "output_type": "execute_result"
    }
   ],
   "source": [
    "len(samples) # makes sense as the burn in is 0.2, so probably discarding the initial 20% of the chain"
   ]
  },
  {
   "cell_type": "code",
   "execution_count": 17,
   "id": "b8c86607-6032-43a3-bf51-1614ee108a54",
   "metadata": {},
   "outputs": [
    {
     "data": {
      "image/png": "[encoded data removed]",
      "text/plain": [
       "<Figure size 640x480 with 1 Axes>"
      ]
     },
     "metadata": {},
     "output_type": "display_data"
    }
   ],
   "source": [
    "# Plotting the posterior distribution\n",
    "plt.hist(samples, bins=30, density=True, label='Posterior samples', alpha=0.6)\n",
    "# plt.axvline(true_mu, color='red', linestyle='--', label='True mean')\n",
    "plt.title('Posterior distribution of $\\\\mu$')\n",
    "plt.xlabel('$\\\\mu$')\n",
    "plt.ylabel('Density')\n",
    "plt.legend()\n",
    "plt.show()"
   ]
  }
 ],
 "metadata": {
  "kernelspec": {
   "display_name": "Python (tfp_env_TN_CPU)",
   "language": "python",
   "name": "tfp_env_tn_cpu"
  },
  "language_info": {
   "codemirror_mode": {
    "name": "ipython",
    "version": 3
   },
   "file_extension": ".py",
   "mimetype": "text/x-python",
   "name": "python",
   "nbconvert_exporter": "python",
   "pygments_lexer": "ipython3",
   "version": "3.11.7"
  }
 },
 "nbformat": 4,
 "nbformat_minor": 5
}
